{
 "cells": [
  {
   "cell_type": "code",
   "execution_count": 5,
   "metadata": {},
   "outputs": [],
   "source": [
    "import numpy as np\n",
    "%matplotlib inline\n",
    "import matplotlib.pyplot as plt\n",
    "import keras\n",
    "from keras.models import Sequential\n",
    "from keras.layers import Dense, Dropout, Flatten, BatchNormalization\n",
    "from keras.layers.pooling import GlobalAveragePooling1D\n",
    "from keras.layers import Conv1D, MaxPooling1D, LSTM,Input\n",
    "from keras.layers.wrappers import TimeDistributed\n",
    "from keras.optimizers import Adam\n",
    "from sklearn.metrics import confusion_matrix\n",
    "import itertools\n",
    "from keras.callbacks import ModelCheckpoint\n",
    "from scipy import stats"
   ]
  },
  {
   "cell_type": "code",
   "execution_count": 6,
   "metadata": {},
   "outputs": [],
   "source": [
    "from keras import Model"
   ]
  },
  {
   "cell_type": "code",
   "execution_count": 7,
   "metadata": {},
   "outputs": [],
   "source": [
    "X_train = np.load('data_files/unshuffled_withcateg/point6percenttrain/X_train_eachCateg.npy')"
   ]
  },
  {
   "cell_type": "code",
   "execution_count": 8,
   "metadata": {},
   "outputs": [
    {
     "data": {
      "text/plain": [
       "(7531, 45, 25, 2)"
      ]
     },
     "execution_count": 8,
     "metadata": {},
     "output_type": "execute_result"
    }
   ],
   "source": [
    "X_train.shape"
   ]
  },
  {
   "cell_type": "code",
   "execution_count": 9,
   "metadata": {},
   "outputs": [],
   "source": [
    "X_test = np.load('data_files/unshuffled_withcateg/point6percenttrain/X_test_eachCateg.npy')\n",
    "X_val = np.load('data_files/unshuffled_withcateg/point6percenttrain/X_val_eachCateg.npy')\n",
    "y_test = np.load('data_files/unshuffled_withcateg/point6percenttrain/y_test_eachCateg.npy')\n",
    "y_val = np.load('data_files/unshuffled_withcateg/point6percenttrain/y_val_eachCateg.npy')\n",
    "y_train = np.load('data_files/unshuffled_withcateg/point6percenttrain/y_train_eachCateg.npy')"
   ]
  },
  {
   "cell_type": "code",
   "execution_count": 10,
   "metadata": {},
   "outputs": [],
   "source": [
    "y_onehot_train = np.zeros((y_train.shape[0], 6))\n",
    "k = 0\n",
    "for val in y_train:\n",
    "    y_onehot_train[k][val] = 1\n",
    "    k+=1"
   ]
  },
  {
   "cell_type": "code",
   "execution_count": 11,
   "metadata": {},
   "outputs": [
    {
     "data": {
      "text/plain": [
       "(7531, 6)"
      ]
     },
     "execution_count": 11,
     "metadata": {},
     "output_type": "execute_result"
    }
   ],
   "source": [
    "y_onehot_train.shape"
   ]
  },
  {
   "cell_type": "code",
   "execution_count": 12,
   "metadata": {},
   "outputs": [],
   "source": [
    "y_onehot_train = np.repeat(y_onehot_train[:, :, np.newaxis], 45, axis=2)\n",
    "y_onehot_train = np.swapaxes(y_onehot_train, 1, 2)"
   ]
  },
  {
   "cell_type": "code",
   "execution_count": 14,
   "metadata": {},
   "outputs": [
    {
     "data": {
      "text/plain": [
       "(7531, 45, 6)"
      ]
     },
     "execution_count": 14,
     "metadata": {},
     "output_type": "execute_result"
    }
   ],
   "source": [
    "y_onehot_train.shape"
   ]
  },
  {
   "cell_type": "code",
   "execution_count": 15,
   "metadata": {},
   "outputs": [],
   "source": [
    "y_onehot_test = np.zeros((y_test.shape[0], 6))\n",
    "k = 0\n",
    "for val in y_test:\n",
    "    y_onehot_test[k][val] = 1\n",
    "    k+=1"
   ]
  },
  {
   "cell_type": "code",
   "execution_count": 16,
   "metadata": {},
   "outputs": [],
   "source": [
    "y_onehot_test = np.repeat(y_onehot_test[:, :, np.newaxis], 45, axis=2)\n",
    "y_onehot_test = np.swapaxes(y_onehot_test, 1, 2)"
   ]
  },
  {
   "cell_type": "code",
   "execution_count": 17,
   "metadata": {},
   "outputs": [],
   "source": [
    "y_onehot_val = np.zeros((y_val.shape[0], 6))\n",
    "k = 0\n",
    "for val in y_val:\n",
    "    y_onehot_val[k][val] = 1\n",
    "    k+=1"
   ]
  },
  {
   "cell_type": "code",
   "execution_count": 18,
   "metadata": {},
   "outputs": [],
   "source": [
    "y_onehot_val = np.repeat(y_onehot_val[:, :, np.newaxis], 45, axis=2)\n",
    "y_onehot_val = np.swapaxes(y_onehot_val, 1, 2)"
   ]
  },
  {
   "cell_type": "code",
   "execution_count": 19,
   "metadata": {},
   "outputs": [
    {
     "data": {
      "text/plain": [
       "(2509, 45, 6)"
      ]
     },
     "execution_count": 19,
     "metadata": {},
     "output_type": "execute_result"
    }
   ],
   "source": [
    "y_onehot_val.shape"
   ]
  },
  {
   "cell_type": "code",
   "execution_count": 20,
   "metadata": {},
   "outputs": [],
   "source": [
    "def model_LSTM():\n",
    "    input_frame = Input(batch_shape=(None, 45,25,2))\n",
    "    flatinput = TimeDistributed(Flatten(input_shape=(45,25,2)))(input_frame)\n",
    "    \n",
    "    first_layer = LSTM(20,unit_forget_bias = 0.5, return_sequences = True)(flatinput)\n",
    "    \n",
    "    second_layer = TimeDistributed(Dense(6,activation='softmax'))(first_layer)\n",
    "    model = Model(inputs = input_frame, outputs = second_layer)\n",
    "    adam = Adam(lr=0.0001)\n",
    "    model.compile(loss='categorical_crossentropy',\n",
    "              optimizer= adam,\n",
    "              metrics=['accuracy'])\n",
    "    \n",
    "    return model"
   ]
  },
  {
   "cell_type": "code",
   "execution_count": 22,
   "metadata": {},
   "outputs": [],
   "source": [
    "model = model_LSTM()"
   ]
  },
  {
   "cell_type": "code",
   "execution_count": 23,
   "metadata": {},
   "outputs": [
    {
     "name": "stdout",
     "output_type": "stream",
     "text": [
      "_________________________________________________________________\n",
      "Layer (type)                 Output Shape              Param #   \n",
      "=================================================================\n",
      "input_2 (InputLayer)         (None, 45, 25, 2)         0         \n",
      "_________________________________________________________________\n",
      "time_distributed_3 (TimeDist (None, 45, 50)            0         \n",
      "_________________________________________________________________\n",
      "lstm_2 (LSTM)                (None, 45, 20)            5680      \n",
      "_________________________________________________________________\n",
      "time_distributed_4 (TimeDist (None, 45, 6)             126       \n",
      "=================================================================\n",
      "Total params: 5,806\n",
      "Trainable params: 5,806\n",
      "Non-trainable params: 0\n",
      "_________________________________________________________________\n"
     ]
    }
   ],
   "source": [
    "model.summary()"
   ]
  },
  {
   "cell_type": "code",
   "execution_count": 24,
   "metadata": {},
   "outputs": [],
   "source": [
    "import os\n",
    "weights_path = os.getcwd()"
   ]
  },
  {
   "cell_type": "code",
   "execution_count": 25,
   "metadata": {},
   "outputs": [
    {
     "name": "stdout",
     "output_type": "stream",
     "text": [
      "WARNING:tensorflow:From C:\\Users\\Admin\\Anaconda3\\lib\\site-packages\\tensorflow\\python\\ops\\math_ops.py:3066: to_int32 (from tensorflow.python.ops.math_ops) is deprecated and will be removed in a future version.\n",
      "Instructions for updating:\n",
      "Use tf.cast instead.\n",
      "Train on 7531 samples, validate on 2509 samples\n",
      "Epoch 1/100\n",
      "7520/7531 [============================>.] - ETA: 0s - loss: 1.8288 - acc: 0.2356Epoch 00001: val_acc improved from -inf to 0.25644, saving model to C:\\Users\\Admin\\Documents\\DataScience_Esha\\CEERI_Intern_PoseDetection\\Weights25_LSTMbasedModel\\val1-01-0.2564.hdf5\n",
      "7531/7531 [==============================] - 18s 2ms/step - loss: 1.8290 - acc: 0.2355 - val_loss: 1.7962 - val_acc: 0.2564\n",
      "Epoch 2/100\n",
      "7520/7531 [============================>.] - ETA: 0s - loss: 1.7425 - acc: 0.3223- ETA: 0s - loss: 1.7427 - acc: 0.322Epoch 00002: val_acc improved from 0.25644 to 0.29399, saving model to C:\\Users\\Admin\\Documents\\DataScience_Esha\\CEERI_Intern_PoseDetection\\Weights25_LSTMbasedModel\\val1-02-0.2940.hdf5\n",
      "7531/7531 [==============================] - 15s 2ms/step - loss: 1.7424 - acc: 0.3224 - val_loss: 1.7262 - val_acc: 0.2940\n",
      "Epoch 3/100\n",
      "7520/7531 [============================>.] - ETA: 0s - loss: 1.6672 - acc: 0.3464Epoch 00003: val_acc improved from 0.29399 to 0.35301, saving model to C:\\Users\\Admin\\Documents\\DataScience_Esha\\CEERI_Intern_PoseDetection\\Weights25_LSTMbasedModel\\val1-03-0.3530.hdf5\n",
      "7531/7531 [==============================] - 15s 2ms/step - loss: 1.6674 - acc: 0.3463 - val_loss: 1.6350 - val_acc: 0.3530\n",
      "Epoch 4/100\n",
      "7520/7531 [============================>.] - ETA: 0s - loss: 1.5643 - acc: 0.4409Epoch 00004: val_acc improved from 0.35301 to 0.41023, saving model to C:\\Users\\Admin\\Documents\\DataScience_Esha\\CEERI_Intern_PoseDetection\\Weights25_LSTMbasedModel\\val1-04-0.4102.hdf5\n",
      "7531/7531 [==============================] - 14s 2ms/step - loss: 1.5644 - acc: 0.4408 - val_loss: 1.5562 - val_acc: 0.4102\n",
      "Epoch 5/100\n",
      "7520/7531 [============================>.] - ETA: 0s - loss: 1.4920 - acc: 0.4726Epoch 00005: val_acc improved from 0.41023 to 0.41375, saving model to C:\\Users\\Admin\\Documents\\DataScience_Esha\\CEERI_Intern_PoseDetection\\Weights25_LSTMbasedModel\\val1-05-0.4137.hdf5\n",
      "7531/7531 [==============================] - 14s 2ms/step - loss: 1.4919 - acc: 0.4727 - val_loss: 1.5040 - val_acc: 0.4137\n",
      "Epoch 6/100\n",
      "7520/7531 [============================>.] - ETA: 0s - loss: 1.4471 - acc: 0.5740- ETA: 0s - loss: 1.4481 - acc: 0.571 - ETA: 0s - loss: 1.4478 - aEpoch 00006: val_acc improved from 0.41375 to 0.55185, saving model to C:\\Users\\Admin\\Documents\\DataScience_Esha\\CEERI_Intern_PoseDetection\\Weights25_LSTMbasedModel\\val1-06-0.5519.hdf5\n",
      "7531/7531 [==============================] - 15s 2ms/step - loss: 1.4470 - acc: 0.5743 - val_loss: 1.4663 - val_acc: 0.5519\n",
      "Epoch 7/100\n",
      "7520/7531 [============================>.] - ETA: 0s - loss: 1.4025 - acc: 0.6414Epoch 00007: val_acc improved from 0.55185 to 0.61279, saving model to C:\\Users\\Admin\\Documents\\DataScience_Esha\\CEERI_Intern_PoseDetection\\Weights25_LSTMbasedModel\\val1-07-0.6128.hdf5\n",
      "7531/7531 [==============================] - 14s 2ms/step - loss: 1.4025 - acc: 0.6416 - val_loss: 1.4217 - val_acc: 0.6128\n",
      "Epoch 8/100\n",
      "7520/7531 [============================>.] - ETA: 0s - loss: 1.3604 - acc: 0.6980Epoch 00008: val_acc improved from 0.61279 to 0.78904, saving model to C:\\Users\\Admin\\Documents\\DataScience_Esha\\CEERI_Intern_PoseDetection\\Weights25_LSTMbasedModel\\val1-08-0.7890.hdf5\n",
      "7531/7531 [==============================] - 15s 2ms/step - loss: 1.3606 - acc: 0.6982 - val_loss: 1.3669 - val_acc: 0.7890\n",
      "Epoch 9/100\n",
      "7520/7531 [============================>.] - ETA: 0s - loss: 1.3186 - acc: 0.7781Epoch 00009: val_acc did not improve\n",
      "7531/7531 [==============================] - 14s 2ms/step - loss: 1.3186 - acc: 0.7783 - val_loss: 1.3447 - val_acc: 0.7508\n",
      "Epoch 10/100\n",
      "7520/7531 [============================>.] - ETA: 0s - loss: 1.2833 - acc: 0.7743Epoch 00010: val_acc improved from 0.78904 to 0.79185, saving model to C:\\Users\\Admin\\Documents\\DataScience_Esha\\CEERI_Intern_PoseDetection\\Weights25_LSTMbasedModel\\val1-10-0.7919.hdf5\n",
      "7531/7531 [==============================] - 15s 2ms/step - loss: 1.2834 - acc: 0.7741 - val_loss: 1.3000 - val_acc: 0.7919\n",
      "Epoch 11/100\n",
      "7520/7531 [============================>.] - ETA: 0s - loss: 1.2504 - acc: 0.7910Epoch 00011: val_acc improved from 0.79185 to 0.80656, saving model to C:\\Users\\Admin\\Documents\\DataScience_Esha\\CEERI_Intern_PoseDetection\\Weights25_LSTMbasedModel\\val1-11-0.8066.hdf5\n",
      "7531/7531 [==============================] - 14s 2ms/step - loss: 1.2503 - acc: 0.7912 - val_loss: 1.2586 - val_acc: 0.8066\n",
      "Epoch 12/100\n",
      "7520/7531 [============================>.] - ETA: 0s - loss: 1.2152 - acc: 0.8033Epoch 00012: val_acc did not improve\n",
      "7531/7531 [==============================] - 14s 2ms/step - loss: 1.2152 - acc: 0.8033 - val_loss: 1.2404 - val_acc: 0.7759\n",
      "Epoch 13/100\n",
      "7520/7531 [============================>.] - ETA: 0s - loss: 1.1862 - acc: 0.8011Epoch 00013: val_acc improved from 0.80656 to 0.81835, saving model to C:\\Users\\Admin\\Documents\\DataScience_Esha\\CEERI_Intern_PoseDetection\\Weights25_LSTMbasedModel\\val1-13-0.8184.hdf5\n",
      "7531/7531 [==============================] - 14s 2ms/step - loss: 1.1861 - acc: 0.8012 - val_loss: 1.2026 - val_acc: 0.8184\n",
      "Epoch 14/100\n",
      "7520/7531 [============================>.] - ETA: 0s - loss: 1.1600 - acc: 0.7950Epoch 00014: val_acc did not improve\n",
      "7531/7531 [==============================] - 14s 2ms/step - loss: 1.1601 - acc: 0.7949 - val_loss: 1.1976 - val_acc: 0.7733\n",
      "Epoch 15/100\n",
      "7520/7531 [============================>.] - ETA: 0s - loss: 1.1330 - acc: 0.8018Epoch 00015: val_acc did not improve\n",
      "7531/7531 [==============================] - 15s 2ms/step - loss: 1.1329 - acc: 0.8019 - val_loss: 1.1701 - val_acc: 0.7806\n",
      "Epoch 16/100\n",
      "7520/7531 [============================>.] - ETA: 0s - loss: 1.1047 - acc: 0.8136- ETA: 1s Epoch 00016: val_acc did not improve\n",
      "7531/7531 [==============================] - 15s 2ms/step - loss: 1.1045 - acc: 0.8136 - val_loss: 1.1385 - val_acc: 0.8084\n",
      "Epoch 17/100\n",
      "7520/7531 [============================>.] - ETA: 0s - loss: 1.0828 - acc: 0.8085Epoch 00017: val_acc did not improve\n",
      "7531/7531 [==============================] - 15s 2ms/step - loss: 1.0830 - acc: 0.8082 - val_loss: 1.1140 - val_acc: 0.7588\n",
      "Epoch 18/100\n",
      "7520/7531 [============================>.] - ETA: 0s - loss: 1.0553 - acc: 0.8215Epoch 00018: val_acc did not improve\n",
      "7531/7531 [==============================] - 14s 2ms/step - loss: 1.0553 - acc: 0.8217 - val_loss: 1.0900 - val_acc: 0.7820\n",
      "Epoch 19/100\n",
      "7520/7531 [============================>.] - ETA: 0s - loss: 1.0328 - acc: 0.8443Epoch 00019: val_acc did not improve\n",
      "7531/7531 [==============================] - 14s 2ms/step - loss: 1.0330 - acc: 0.8441 - val_loss: 1.0605 - val_acc: 0.8071\n",
      "Epoch 20/100\n",
      "7520/7531 [============================>.] - ETA: 0s - loss: 1.0100 - acc: 0.8448Epoch 00020: val_acc did not improve\n",
      "7531/7531 [==============================] - 14s 2ms/step - loss: 1.0097 - acc: 0.8450 - val_loss: 1.0449 - val_acc: 0.7869\n",
      "Epoch 21/100\n",
      "7520/7531 [============================>.] - ETA: 0s - loss: 0.9816 - acc: 0.8430Epoch 00021: val_acc did not improve\n",
      "7531/7531 [==============================] - 14s 2ms/step - loss: 0.9817 - acc: 0.8428 - val_loss: 1.0152 - val_acc: 0.7854\n",
      "Epoch 22/100\n",
      "7520/7531 [============================>.] - ETA: 0s - loss: 0.9457 - acc: 0.8434Epoch 00022: val_acc did not improve\n",
      "7531/7531 [==============================] - 15s 2ms/step - loss: 0.9453 - acc: 0.8435 - val_loss: 0.9732 - val_acc: 0.7756\n",
      "Epoch 23/100\n",
      "7520/7531 [============================>.] - ETA: 0s - loss: 0.9214 - acc: 0.8467- ETA: 0s - loss: 0.9213 - acc: 0.84 - ETA: 0s - loss: 0.9212 - acc: 0.8467Epoch 00023: val_acc did not improve\n",
      "7531/7531 [==============================] - 15s 2ms/step - loss: 0.9210 - acc: 0.8467 - val_loss: 0.9710 - val_acc: 0.7774\n",
      "Epoch 24/100\n",
      "7520/7531 [============================>.] - ETA: 0s - loss: 0.9000 - acc: 0.8480Epoch 00024: val_acc did not improve\n",
      "7531/7531 [==============================] - 14s 2ms/step - loss: 0.8995 - acc: 0.8482 - val_loss: 0.9267 - val_acc: 0.7801\n"
     ]
    },
    {
     "name": "stdout",
     "output_type": "stream",
     "text": [
      "Epoch 25/100\n",
      "7520/7531 [============================>.] - ETA: 0s - loss: 0.8751 - acc: 0.8482Epoch 00025: val_acc did not improve\n",
      "7531/7531 [==============================] - 13s 2ms/step - loss: 0.8753 - acc: 0.8481 - val_loss: 0.9035 - val_acc: 0.7987\n",
      "Epoch 26/100\n",
      "7520/7531 [============================>.] - ETA: 0s - loss: 0.8574 - acc: 0.8545Epoch 00026: val_acc did not improve\n",
      "7531/7531 [==============================] - 13s 2ms/step - loss: 0.8572 - acc: 0.8546 - val_loss: 0.8891 - val_acc: 0.7919\n",
      "Epoch 27/100\n",
      "7520/7531 [============================>.] - ETA: 0s - loss: 0.8231 - acc: 0.8739Epoch 00027: val_acc did not improve\n",
      "7531/7531 [==============================] - 14s 2ms/step - loss: 0.8233 - acc: 0.8736 - val_loss: 0.8703 - val_acc: 0.8131\n",
      "Epoch 28/100\n",
      "7520/7531 [============================>.] - ETA: 0s - loss: 0.7963 - acc: 0.8789Epoch 00028: val_acc did not improve\n",
      "7531/7531 [==============================] - 14s 2ms/step - loss: 0.7964 - acc: 0.8789 - val_loss: 0.8552 - val_acc: 0.8009\n",
      "Epoch 29/100\n",
      "7520/7531 [============================>.] - ETA: 0s - loss: 0.7751 - acc: 0.8816- ETA: 0s - loss: 0.7750 - acc: 0.883 - ETA: 0s - loss: 0.775Epoch 00029: val_acc did not improve\n",
      "7531/7531 [==============================] - 14s 2ms/step - loss: 0.7751 - acc: 0.8817 - val_loss: 0.8318 - val_acc: 0.8081\n",
      "Epoch 30/100\n",
      "7520/7531 [============================>.] - ETA: 0s - loss: 0.7597 - acc: 0.8789Epoch 00030: val_acc did not improve\n",
      "7531/7531 [==============================] - 14s 2ms/step - loss: 0.7597 - acc: 0.8790 - val_loss: 0.8216 - val_acc: 0.8033\n",
      "Epoch 31/100\n",
      "7520/7531 [============================>.] - ETA: 0s - loss: 0.7454 - acc: 0.8792Epoch 00031: val_acc improved from 0.81835 to 0.84156, saving model to C:\\Users\\Admin\\Documents\\DataScience_Esha\\CEERI_Intern_PoseDetection\\Weights25_LSTMbasedModel\\val1-31-0.8416.hdf5\n",
      "7531/7531 [==============================] - 14s 2ms/step - loss: 0.7453 - acc: 0.8794 - val_loss: 0.7810 - val_acc: 0.8416\n",
      "Epoch 32/100\n",
      "7520/7531 [============================>.] - ETA: 0s - loss: 0.7281 - acc: 0.8751Epoch 00032: val_acc did not improve\n",
      "7531/7531 [==============================] - 14s 2ms/step - loss: 0.7279 - acc: 0.8753 - val_loss: 0.8340 - val_acc: 0.8068\n",
      "Epoch 33/100\n",
      "7520/7531 [============================>.] - ETA: 0s - loss: 0.7102 - acc: 0.8769Epoch 00033: val_acc did not improve\n",
      "7531/7531 [==============================] - 14s 2ms/step - loss: 0.7102 - acc: 0.8768 - val_loss: 0.7709 - val_acc: 0.8079\n",
      "Epoch 34/100\n",
      "7520/7531 [============================>.] - ETA: 0s - loss: 0.6888 - acc: 0.8822- E - ETA: 4s - loss: 0.69 - ETA: 3s - l - EEpoch 00034: val_acc did not improve\n",
      "7531/7531 [==============================] - 14s 2ms/step - loss: 0.6889 - acc: 0.8821 - val_loss: 0.7551 - val_acc: 0.8152\n",
      "Epoch 35/100\n",
      "7520/7531 [============================>.] - ETA: 0s - loss: 0.6709 - acc: 0.8837Epoch 00035: val_acc did not improve\n",
      "7531/7531 [==============================] - 14s 2ms/step - loss: 0.6713 - acc: 0.8833 - val_loss: 0.7816 - val_acc: 0.7847\n",
      "Epoch 36/100\n",
      "7520/7531 [============================>.] - ETA: 0s - loss: 0.6557 - acc: 0.8834Epoch 00036: val_acc did not improve\n",
      "7531/7531 [==============================] - 14s 2ms/step - loss: 0.6557 - acc: 0.8835 - val_loss: 0.7226 - val_acc: 0.8122\n",
      "Epoch 37/100\n",
      "7520/7531 [============================>.] - ETA: 0s - loss: 0.6366 - acc: 0.8830- ETAEpoch 00037: val_acc did not improve\n",
      "7531/7531 [==============================] - 14s 2ms/step - loss: 0.6365 - acc: 0.8831 - val_loss: 0.7245 - val_acc: 0.7924\n",
      "Epoch 38/100\n",
      "7520/7531 [============================>.] - ETA: 0s - loss: 0.6155 - acc: 0.8901Epoch 00038: val_acc did not improve\n",
      "7531/7531 [==============================] - 14s 2ms/step - loss: 0.6156 - acc: 0.8902 - val_loss: 0.7048 - val_acc: 0.7969\n",
      "Epoch 39/100\n",
      "7520/7531 [============================>.] - ETA: 0s - loss: 0.6011 - acc: 0.8923Epoch 00039: val_acc did not improve\n",
      "7531/7531 [==============================] - 14s 2ms/step - loss: 0.6011 - acc: 0.8923 - val_loss: 0.7010 - val_acc: 0.7897\n",
      "Epoch 40/100\n",
      "7520/7531 [============================>.] - ETA: 0s - loss: 0.5658 - acc: 0.8699Epoch 00040: val_acc did not improve\n",
      "7531/7531 [==============================] - 15s 2ms/step - loss: 0.5656 - acc: 0.8699 - val_loss: 0.7314 - val_acc: 0.7028\n",
      "Epoch 41/100\n",
      "7520/7531 [============================>.] - ETA: 0s - loss: 0.5580 - acc: 0.8672Epoch 00041: val_acc did not improve\n",
      "7531/7531 [==============================] - 13s 2ms/step - loss: 0.5582 - acc: 0.8671 - val_loss: 0.6162 - val_acc: 0.8051\n",
      "Epoch 42/100\n",
      "7520/7531 [============================>.] - ETA: 0s - loss: 0.5151 - acc: 0.8759Epoch 00042: val_acc did not improve\n",
      "7531/7531 [==============================] - 14s 2ms/step - loss: 0.5150 - acc: 0.8760 - val_loss: 0.6400 - val_acc: 0.7610\n",
      "Epoch 43/100\n",
      "7520/7531 [============================>.] - ETA: 0s - loss: 0.4800 - acc: 0.8804Epoch 00043: val_acc did not improve\n",
      "7531/7531 [==============================] - 14s 2ms/step - loss: 0.4799 - acc: 0.8805 - val_loss: 0.5956 - val_acc: 0.7687\n",
      "Epoch 44/100\n",
      "7520/7531 [============================>.] - ETA: 0s - loss: 0.4594 - acc: 0.8825Epoch 00044: val_acc did not improve\n",
      "7531/7531 [==============================] - 14s 2ms/step - loss: 0.4594 - acc: 0.8826 - val_loss: 0.6164 - val_acc: 0.7655\n",
      "Epoch 45/100\n",
      "7520/7531 [============================>.] - ETA: 0s - loss: 0.4387 - acc: 0.8863- ETA: 0s - loss: 0.4397 - accEpoch 00045: val_acc did not improve\n",
      "7531/7531 [==============================] - 14s 2ms/step - loss: 0.4386 - acc: 0.8863 - val_loss: 0.6260 - val_acc: 0.7642\n",
      "Epoch 46/100\n",
      "7520/7531 [============================>.] - ETA: 0s - loss: 0.4118 - acc: 0.9094Epoch 00046: val_acc improved from 0.84156 to 0.84693, saving model to C:\\Users\\Admin\\Documents\\DataScience_Esha\\CEERI_Intern_PoseDetection\\Weights25_LSTMbasedModel\\val1-46-0.8469.hdf5\n",
      "7531/7531 [==============================] - 15s 2ms/step - loss: 0.4119 - acc: 0.9092 - val_loss: 0.6057 - val_acc: 0.8469\n",
      "Epoch 47/100\n",
      "7520/7531 [============================>.] - ETA: 0s - loss: 0.3981 - acc: 0.9269- ETA: 0s - loss: 0.3983 - aEpoch 00047: val_acc improved from 0.84693 to 0.86346, saving model to C:\\Users\\Admin\\Documents\\DataScience_Esha\\CEERI_Intern_PoseDetection\\Weights25_LSTMbasedModel\\val1-47-0.8635.hdf5\n",
      "7531/7531 [==============================] - 14s 2ms/step - loss: 0.3982 - acc: 0.9269 - val_loss: 0.5707 - val_acc: 0.8635\n",
      "Epoch 48/100\n",
      "7520/7531 [============================>.] - ETA: 0s - loss: 0.3862 - acc: 0.9281Epoch 00048: val_acc did not improve\n",
      "7531/7531 [==============================] - 14s 2ms/step - loss: 0.3860 - acc: 0.9282 - val_loss: 0.6013 - val_acc: 0.8289\n",
      "Epoch 49/100\n",
      "7520/7531 [============================>.] - ETA: 0s - loss: 0.3775 - acc: 0.9424Epoch 00049: val_acc did not improve\n",
      "7531/7531 [==============================] - 14s 2ms/step - loss: 0.3775 - acc: 0.9424 - val_loss: 0.5846 - val_acc: 0.8357\n",
      "Epoch 50/100\n",
      "7520/7531 [============================>.] - ETA: 0s - loss: 0.3593 - acc: 0.9541Epoch 00050: val_acc did not improve\n",
      "7531/7531 [==============================] - 14s 2ms/step - loss: 0.3595 - acc: 0.9540 - val_loss: 0.6149 - val_acc: 0.8372\n",
      "Epoch 51/100\n",
      "7520/7531 [============================>.] - ETA: 0s - loss: 0.3457 - acc: 0.9598Epoch 00051: val_acc did not improve\n",
      "7531/7531 [==============================] - 14s 2ms/step - loss: 0.3458 - acc: 0.9599 - val_loss: 0.5949 - val_acc: 0.8355\n",
      "Epoch 52/100\n",
      "7520/7531 [============================>.] - ETA: 0s - loss: 0.3441 - acc: 0.9527Epoch 00052: val_acc did not improve\n",
      "7531/7531 [==============================] - 14s 2ms/step - loss: 0.3440 - acc: 0.9527 - val_loss: 0.6119 - val_acc: 0.8249\n",
      "Epoch 53/100\n",
      "7520/7531 [============================>.] - ETA: 0s - loss: 0.3227 - acc: 0.9634Epoch 00053: val_acc did not improve\n",
      "7531/7531 [==============================] - 14s 2ms/step - loss: 0.3225 - acc: 0.9635 - val_loss: 0.5802 - val_acc: 0.8076\n",
      "Epoch 54/100\n",
      "7520/7531 [============================>.] - ETA: 0s - loss: 0.3158 - acc: 0.9607Epoch 00054: val_acc did not improve\n",
      "7531/7531 [==============================] - 14s 2ms/step - loss: 0.3157 - acc: 0.9608 - val_loss: 0.5617 - val_acc: 0.8189\n"
     ]
    },
    {
     "name": "stdout",
     "output_type": "stream",
     "text": [
      "Epoch 55/100\n",
      "7520/7531 [============================>.] - ETA: 0s - loss: 0.3057 - acc: 0.9620Epoch 00055: val_acc did not improve\n",
      "7531/7531 [==============================] - 15s 2ms/step - loss: 0.3058 - acc: 0.9621 - val_loss: 0.6024 - val_acc: 0.8074\n",
      "Epoch 56/100\n",
      "7520/7531 [============================>.] - ETA: 0s - loss: 0.2944 - acc: 0.9628- ETA: 1s - loss: 0.2Epoch 00056: val_acc did not improve\n",
      "7531/7531 [==============================] - 15s 2ms/step - loss: 0.2943 - acc: 0.9628 - val_loss: 0.6113 - val_acc: 0.8077\n",
      "Epoch 57/100\n",
      "7520/7531 [============================>.] - ETA: 0s - loss: 0.2874 - acc: 0.9627Epoch 00057: val_acc did not improve\n",
      "7531/7531 [==============================] - 41s 5ms/step - loss: 0.2872 - acc: 0.9627 - val_loss: 0.5687 - val_acc: 0.8287\n",
      "Epoch 58/100\n",
      "7520/7531 [============================>.] - ETA: 0s - loss: 0.2820 - acc: 0.9612Epoch 00058: val_acc did not improve\n",
      "7531/7531 [==============================] - 78s 10ms/step - loss: 0.2819 - acc: 0.9611 - val_loss: 0.5903 - val_acc: 0.8064\n",
      "Epoch 59/100\n",
      "7520/7531 [============================>.] - ETA: 0s - loss: 0.2733 - acc: 0.9633Epoch 00059: val_acc did not improve\n",
      "7531/7531 [==============================] - 79s 10ms/step - loss: 0.2733 - acc: 0.9633 - val_loss: 0.5888 - val_acc: 0.8015\n",
      "Epoch 60/100\n",
      "7520/7531 [============================>.] - ETA: 0s - loss: 0.2662 - acc: 0.9617Epoch 00060: val_acc did not improve\n",
      "7531/7531 [==============================] - 64s 9ms/step - loss: 0.2662 - acc: 0.9617 - val_loss: 0.5278 - val_acc: 0.8404\n",
      "Epoch 61/100\n",
      "7520/7531 [============================>.] - ETA: 0s - loss: 0.2603 - acc: 0.9611Epoch 00061: val_acc did not improve\n",
      "7531/7531 [==============================] - 62s 8ms/step - loss: 0.2602 - acc: 0.9611 - val_loss: 0.5837 - val_acc: 0.8224\n",
      "Epoch 62/100\n",
      "7520/7531 [============================>.] - ETA: 0s - loss: 0.2528 - acc: 0.9600Epoch 00062: val_acc did not improve\n",
      "7531/7531 [==============================] - 67s 9ms/step - loss: 0.2530 - acc: 0.9600 - val_loss: 0.5612 - val_acc: 0.8428\n",
      "Epoch 63/100\n",
      "7520/7531 [============================>.] - ETA: 0s - loss: 0.2476 - acc: 0.9617Epoch 00063: val_acc did not improve\n",
      "7531/7531 [==============================] - 71s 9ms/step - loss: 0.2475 - acc: 0.9616 - val_loss: 0.5418 - val_acc: 0.8435\n",
      "Epoch 64/100\n",
      "7520/7531 [============================>.] - ETA: 0s - loss: 0.2440 - acc: 0.9583Epoch 00064: val_acc did not improve\n",
      "7531/7531 [==============================] - 73s 10ms/step - loss: 0.2442 - acc: 0.9582 - val_loss: 0.5530 - val_acc: 0.8220\n",
      "Epoch 65/100\n",
      "7520/7531 [============================>.] - ETA: 0s - loss: 0.2355 - acc: 0.9586Epoch 00065: val_acc did not improve\n",
      "7531/7531 [==============================] - 61s 8ms/step - loss: 0.2355 - acc: 0.9586 - val_loss: 0.5520 - val_acc: 0.8210\n",
      "Epoch 66/100\n",
      "7520/7531 [============================>.] - ETA: 0s - loss: 0.2206 - acc: 0.9603Epoch 00066: val_acc did not improve\n",
      "7531/7531 [==============================] - 68s 9ms/step - loss: 0.2207 - acc: 0.9602 - val_loss: 0.5778 - val_acc: 0.8209\n",
      "Epoch 67/100\n",
      "7520/7531 [============================>.] - ETA: 0s - loss: 0.2106 - acc: 0.9596Epoch 00067: val_acc did not improve\n",
      "7531/7531 [==============================] - 53s 7ms/step - loss: 0.2105 - acc: 0.9596 - val_loss: 0.5528 - val_acc: 0.8231\n",
      "Epoch 68/100\n",
      "7520/7531 [============================>.] - ETA: 0s - loss: 0.2051 - acc: 0.9605Epoch 00068: val_acc did not improve\n",
      "7531/7531 [==============================] - 56s 7ms/step - loss: 0.2051 - acc: 0.9605 - val_loss: 0.5772 - val_acc: 0.8218\n",
      "Epoch 69/100\n",
      "7520/7531 [============================>.] - ETA: 0s - loss: 0.2008 - acc: 0.9603Epoch 00069: val_acc did not improve\n",
      "7531/7531 [==============================] - 68s 9ms/step - loss: 0.2007 - acc: 0.9604 - val_loss: 0.5573 - val_acc: 0.8248\n",
      "Epoch 70/100\n",
      "7520/7531 [============================>.] - ETA: 0s - loss: 0.1947 - acc: 0.9590Epoch 00070: val_acc did not improve\n",
      "7531/7531 [==============================] - 58s 8ms/step - loss: 0.1948 - acc: 0.9589 - val_loss: 0.5665 - val_acc: 0.8149\n",
      "Epoch 71/100\n",
      "7520/7531 [============================>.] - ETA: 0s - loss: 0.1840 - acc: 0.9662Epoch 00071: val_acc did not improve\n",
      "7531/7531 [==============================] - 58s 8ms/step - loss: 0.1840 - acc: 0.9662 - val_loss: 0.5581 - val_acc: 0.8242\n",
      "Epoch 72/100\n",
      "7520/7531 [============================>.] - ETA: 0s - loss: 0.1795 - acc: 0.9685Epoch 00072: val_acc did not improve\n",
      "7531/7531 [==============================] - 55s 7ms/step - loss: 0.1794 - acc: 0.9685 - val_loss: 0.5587 - val_acc: 0.8166\n",
      "Epoch 73/100\n",
      "7520/7531 [============================>.] - ETA: 0s - loss: 0.1769 - acc: 0.9678Epoch 00073: val_acc did not improve\n",
      "7531/7531 [==============================] - 55s 7ms/step - loss: 0.1768 - acc: 0.9678 - val_loss: 0.4893 - val_acc: 0.8525\n",
      "Epoch 74/100\n",
      "7520/7531 [============================>.] - ETA: 0s - loss: 0.1737 - acc: 0.9700-Epoch 00074: val_acc improved from 0.86346 to 0.86851, saving model to C:\\Users\\Admin\\Documents\\DataScience_Esha\\CEERI_Intern_PoseDetection\\Weights25_LSTMbasedModel\\val1-74-0.8685.hdf5\n",
      "7531/7531 [==============================] - 57s 8ms/step - loss: 0.1740 - acc: 0.9699 - val_loss: 0.4695 - val_acc: 0.8685\n",
      "Epoch 75/100\n",
      "7520/7531 [============================>.] - ETA: 0s - loss: 0.1650 - acc: 0.9709Epoch 00075: val_acc did not improve\n",
      "7531/7531 [==============================] - 77s 10ms/step - loss: 0.1649 - acc: 0.9710 - val_loss: 0.4925 - val_acc: 0.8483\n",
      "Epoch 76/100\n",
      "7520/7531 [============================>.] - ETA: 0s - loss: 0.1593 - acc: 0.9719Epoch 00076: val_acc did not improve\n",
      "7531/7531 [==============================] - 63s 8ms/step - loss: 0.1592 - acc: 0.9719 - val_loss: 0.5595 - val_acc: 0.8163\n",
      "Epoch 77/100\n",
      "7520/7531 [============================>.] - ETA: 0s - loss: 0.1567 - acc: 0.9717Epoch 00077: val_acc did not improve\n",
      "7531/7531 [==============================] - 77s 10ms/step - loss: 0.1569 - acc: 0.9716 - val_loss: 0.5596 - val_acc: 0.8183\n",
      "Epoch 78/100\n",
      "7520/7531 [============================>.] - ETA: 0s - loss: 0.1525 - acc: 0.9720Epoch 00078: val_acc did not improve\n",
      "7531/7531 [==============================] - 68s 9ms/step - loss: 0.1525 - acc: 0.9720 - val_loss: 0.5245 - val_acc: 0.8331\n",
      "Epoch 79/100\n",
      "7520/7531 [============================>.] - ETA: 0s - loss: 0.1486 - acc: 0.9728Epoch 00079: val_acc did not improve\n",
      "7531/7531 [==============================] - 72s 9ms/step - loss: 0.1489 - acc: 0.9727 - val_loss: 0.5489 - val_acc: 0.8330\n",
      "Epoch 80/100\n",
      "7520/7531 [============================>.] - ETA: 0s - loss: 0.1556 - acc: 0.9643Epoch 00080: val_acc did not improve\n",
      "7531/7531 [==============================] - 71s 9ms/step - loss: 0.1556 - acc: 0.9643 - val_loss: 0.5557 - val_acc: 0.8284\n",
      "Epoch 81/100\n",
      "7520/7531 [============================>.] - ETA: 0s - loss: 0.1443 - acc: 0.9717Epoch 00081: val_acc did not improve\n",
      "7531/7531 [==============================] - 66s 9ms/step - loss: 0.1442 - acc: 0.9717 - val_loss: 0.5600 - val_acc: 0.8186\n",
      "Epoch 82/100\n",
      "7520/7531 [============================>.] - ETA: 0s - loss: 0.1458 - acc: 0.9724Epoch 00082: val_acc did not improve\n",
      "7531/7531 [==============================] - 72s 10ms/step - loss: 0.1460 - acc: 0.9723 - val_loss: 0.4856 - val_acc: 0.8545\n",
      "Epoch 83/100\n",
      "7520/7531 [============================>.] - ETA: 0s - loss: 0.1422 - acc: 0.9688Epoch 00083: val_acc did not improve\n",
      "7531/7531 [==============================] - 61s 8ms/step - loss: 0.1422 - acc: 0.9688 - val_loss: 0.4906 - val_acc: 0.8487\n",
      "Epoch 84/100\n",
      "7520/7531 [============================>.] - ETA: 0s - loss: 0.1393 - acc: 0.9707Epoch 00084: val_acc did not improve\n",
      "7531/7531 [==============================] - 63s 8ms/step - loss: 0.1394 - acc: 0.9707 - val_loss: 0.5059 - val_acc: 0.8418\n",
      "Epoch 85/100\n",
      "7520/7531 [============================>.] - ETA: 0s - loss: 0.1355 - acc: 0.9724Epoch 00085: val_acc did not improve\n",
      "7531/7531 [==============================] - 63s 8ms/step - loss: 0.1354 - acc: 0.9724 - val_loss: 0.5575 - val_acc: 0.8188\n",
      "Epoch 86/100\n",
      "7520/7531 [============================>.] - ETA: 0s - loss: 0.1321 - acc: 0.9736Epoch 00086: val_acc did not improve\n",
      "7531/7531 [==============================] - 55s 7ms/step - loss: 0.1320 - acc: 0.9736 - val_loss: 0.5638 - val_acc: 0.8188\n"
     ]
    },
    {
     "name": "stdout",
     "output_type": "stream",
     "text": [
      "Epoch 87/100\n",
      "7520/7531 [============================>.] - ETA: 0s - loss: 0.1297 - acc: 0.9745Epoch 00087: val_acc did not improve\n",
      "7531/7531 [==============================] - 57s 8ms/step - loss: 0.1297 - acc: 0.9745 - val_loss: 0.5532 - val_acc: 0.8233\n",
      "Epoch 88/100\n",
      "7520/7531 [============================>.] - ETA: 0s - loss: 0.1281 - acc: 0.9748Epoch 00088: val_acc did not improve\n",
      "7531/7531 [==============================] - 58s 8ms/step - loss: 0.1281 - acc: 0.9748 - val_loss: 0.5603 - val_acc: 0.8187\n",
      "Epoch 89/100\n",
      "7520/7531 [============================>.] - ETA: 0s - loss: 0.1285 - acc: 0.9732Epoch 00089: val_acc did not improve\n",
      "7531/7531 [==============================] - 67s 9ms/step - loss: 0.1284 - acc: 0.9733 - val_loss: 0.5123 - val_acc: 0.8429\n",
      "Epoch 90/100\n",
      "7520/7531 [============================>.] - ETA: 0s - loss: 0.1317 - acc: 0.9658Epoch 00090: val_acc did not improve\n",
      "7531/7531 [==============================] - 61s 8ms/step - loss: 0.1316 - acc: 0.9659 - val_loss: 0.5621 - val_acc: 0.8178\n",
      "Epoch 91/100\n",
      "7520/7531 [============================>.] - ETA: 0s - loss: 0.1190 - acc: 0.9748Epoch 00091: val_acc did not improve\n",
      "7531/7531 [==============================] - 58s 8ms/step - loss: 0.1190 - acc: 0.9748 - val_loss: 0.5018 - val_acc: 0.8461\n",
      "Epoch 92/100\n",
      "7520/7531 [============================>.] - ETA: 0s - loss: 0.1145 - acc: 0.9818Epoch 00092: val_acc did not improve\n",
      "7531/7531 [==============================] - 58s 8ms/step - loss: 0.1144 - acc: 0.9819 - val_loss: 0.5702 - val_acc: 0.8186\n",
      "Epoch 93/100\n",
      "7520/7531 [============================>.] - ETA: 0s - loss: 0.1123 - acc: 0.9821Epoch 00093: val_acc did not improve\n",
      "7531/7531 [==============================] - 61s 8ms/step - loss: 0.1122 - acc: 0.9821 - val_loss: 0.5586 - val_acc: 0.8279\n",
      "Epoch 94/100\n",
      "7520/7531 [============================>.] - ETA: 0s - loss: 0.1103 - acc: 0.9826- ETA: 4s - loss: 0Epoch 00094: val_acc did not improve\n",
      "7531/7531 [==============================] - 60s 8ms/step - loss: 0.1103 - acc: 0.9826 - val_loss: 0.4953 - val_acc: 0.8509\n",
      "Epoch 95/100\n",
      "7520/7531 [============================>.] - ETA: 0s - loss: 0.1102 - acc: 0.9819Epoch 00095: val_acc did not improve\n",
      "7531/7531 [==============================] - 60s 8ms/step - loss: 0.1101 - acc: 0.9819 - val_loss: 0.4942 - val_acc: 0.8492\n",
      "Epoch 96/100\n",
      "7520/7531 [============================>.] - ETA: 0s - loss: 0.1076 - acc: 0.9816Epoch 00096: val_acc did not improve\n",
      "7531/7531 [==============================] - 61s 8ms/step - loss: 0.1075 - acc: 0.9817 - val_loss: 0.4901 - val_acc: 0.8492\n",
      "Epoch 97/100\n",
      "7520/7531 [============================>.] - ETA: 0s - loss: 0.1075 - acc: 0.9812Epoch 00097: val_acc did not improve\n",
      "7531/7531 [==============================] - 60s 8ms/step - loss: 0.1074 - acc: 0.9812 - val_loss: 0.4919 - val_acc: 0.8497\n",
      "Epoch 98/100\n",
      "7520/7531 [============================>.] - ETA: 0s - loss: 0.1071 - acc: 0.9808Epoch 00098: val_acc did not improve\n",
      "7531/7531 [==============================] - 60s 8ms/step - loss: 0.1071 - acc: 0.9808 - val_loss: 0.5406 - val_acc: 0.8312\n",
      "Epoch 99/100\n",
      "7520/7531 [============================>.] - ETA: 0s - loss: 0.1048 - acc: 0.9822Epoch 00099: val_acc did not improve\n",
      "7531/7531 [==============================] - 60s 8ms/step - loss: 0.1047 - acc: 0.9822 - val_loss: 0.4953 - val_acc: 0.8513\n",
      "Epoch 100/100\n",
      "7520/7531 [============================>.] - ETA: 0s - loss: 0.1031 - acc: 0.9812Epoch 00100: val_acc did not improve\n",
      "7531/7531 [==============================] - 61s 8ms/step - loss: 0.1032 - acc: 0.9812 - val_loss: 0.5728 - val_acc: 0.8216\n"
     ]
    }
   ],
   "source": [
    "filepath= weights_path+ \"\\Weights25_LSTMbasedModel\\\\\" + \"val1\" + \"-{epoch:02d}-{val_acc:.4f}.hdf5\"\n",
    "checkpoint = ModelCheckpoint(filepath, monitor='val_acc', verbose=1, save_best_only=True, mode='max')\n",
    "callbacks_list = [checkpoint]\n",
    "model_history = model.fit(X_train, y_onehot_train, epochs=100, batch_size=32, callbacks=callbacks_list, validation_data = (X_val, y_onehot_val))"
   ]
  },
  {
   "cell_type": "code",
   "execution_count": 26,
   "metadata": {},
   "outputs": [
    {
     "data": {
      "image/png": "[encoded data removed]",
      "text/plain": [
       "<Figure size 432x288 with 1 Axes>"
      ]
     },
     "metadata": {
      "needs_background": "light"
     },
     "output_type": "display_data"
    },
    {
     "data": {
      "image/png": "[encoded data removed]",
      "text/plain": [
       "<Figure size 432x288 with 1 Axes>"
      ]
     },
     "metadata": {
      "needs_background": "light"
     },
     "output_type": "display_data"
    }
   ],
   "source": [
    "## plot accuracy\n",
    "plt.plot(model_history.history['acc'])\n",
    "plt.plot(model_history.history['val_acc'])\n",
    "plt.title('Model Accuracy')\n",
    "plt.ylabel('Accuracy')\n",
    "plt.xlabel('Epoch')\n",
    "plt.legend(['Train', 'Validation'], loc='lower right')\n",
    "plt.show()\n",
    "\n",
    "\n",
    "# # Plot loss\n",
    "plt.plot(model_history.history['loss'])\n",
    "plt.plot(model_history.history['val_loss'])\n",
    "plt.title('Model Loss')\n",
    "plt.ylabel('Loss')\n",
    "plt.xlabel('Epoch')\n",
    "plt.legend(['Train', 'Validation'], loc='upper right')\n",
    "plt.show()"
   ]
  },
  {
   "cell_type": "code",
   "execution_count": 27,
   "metadata": {},
   "outputs": [],
   "source": [
    "model = model_LSTM()\n",
    "#load best weights from current training\n",
    "model.load_weights(\"Weights25_LSTMbasedModel/val1-74-0.8685.hdf5\")"
   ]
  },
  {
   "cell_type": "code",
   "execution_count": 28,
   "metadata": {},
   "outputs": [],
   "source": [
    "y_onehot_pred = model.predict(X_test)"
   ]
  },
  {
   "cell_type": "code",
   "execution_count": 29,
   "metadata": {},
   "outputs": [
    {
     "data": {
      "text/plain": [
       "(2516, 45, 6)"
      ]
     },
     "execution_count": 29,
     "metadata": {},
     "output_type": "execute_result"
    }
   ],
   "source": [
    "y_onehot_pred.shape"
   ]
  },
  {
   "cell_type": "code",
   "execution_count": 30,
   "metadata": {},
   "outputs": [
    {
     "name": "stdout",
     "output_type": "stream",
     "text": [
      "(2516, 45)\n",
      "(2516, 45)\n"
     ]
    }
   ],
   "source": [
    "y_pred = np.argmax(y_onehot_pred, axis = 2)\n",
    "y_test = np.argmax(y_onehot_test, axis = 2)\n",
    "print(y_pred.shape)\n",
    "print(y_test.shape)"
   ]
  },
  {
   "cell_type": "code",
   "execution_count": 31,
   "metadata": {},
   "outputs": [
    {
     "name": "stdout",
     "output_type": "stream",
     "text": [
      "85.35417770711888\n"
     ]
    }
   ],
   "source": [
    "ans = 0\n",
    "for i in range(y_test.shape[0]):    \n",
    "        for j in range(y_test.shape[1]):\n",
    "            if y_test[i][j] == y_pred[i][j]:\n",
    "                ans = ans + 1    \n",
    "print(ans/(y_test.shape[0] * y_test.shape[1]) * 100)"
   ]
  },
  {
   "cell_type": "code",
   "execution_count": null,
   "metadata": {},
   "outputs": [],
   "source": []
  }
 ],
 "metadata": {
  "kernelspec": {
   "display_name": "Python 3",
   "language": "python",
   "name": "python3"
  },
  "language_info": {
   "codemirror_mode": {
    "name": "ipython",
    "version": 3
   },
   "file_extension": ".py",
   "mimetype": "text/x-python",
   "name": "python",
   "nbconvert_exporter": "python",
   "pygments_lexer": "ipython3",
   "version": "3.7.6"
  }
 },
 "nbformat": 4,
 "nbformat_minor": 4
}
