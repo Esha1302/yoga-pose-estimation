{
 "cells": [
  {
   "cell_type": "code",
   "execution_count": 1,
   "metadata": {},
   "outputs": [],
   "source": [
    "from __future__ import print_function\n",
    "from matplotlib import pyplot as plt\n",
    "import numpy as np\n",
    "import pandas as pd\n",
    "import seaborn as sns\n",
    "from scipy import stats"
   ]
  },
  {
   "cell_type": "code",
   "execution_count": 2,
   "metadata": {},
   "outputs": [
    {
     "name": "stderr",
     "output_type": "stream",
     "text": [
      "Using TensorFlow backend.\n",
      "C:\\Users\\Admin\\Anaconda3\\lib\\site-packages\\tensorflow\\python\\framework\\dtypes.py:526: FutureWarning: Passing (type, 1) or '1type' as a synonym of type is deprecated; in a future version of numpy, it will be understood as (type, (1,)) / '(1,)type'.\n",
      "  _np_qint8 = np.dtype([(\"qint8\", np.int8, 1)])\n",
      "C:\\Users\\Admin\\Anaconda3\\lib\\site-packages\\tensorflow\\python\\framework\\dtypes.py:527: FutureWarning: Passing (type, 1) or '1type' as a synonym of type is deprecated; in a future version of numpy, it will be understood as (type, (1,)) / '(1,)type'.\n",
      "  _np_quint8 = np.dtype([(\"quint8\", np.uint8, 1)])\n",
      "C:\\Users\\Admin\\Anaconda3\\lib\\site-packages\\tensorflow\\python\\framework\\dtypes.py:528: FutureWarning: Passing (type, 1) or '1type' as a synonym of type is deprecated; in a future version of numpy, it will be understood as (type, (1,)) / '(1,)type'.\n",
      "  _np_qint16 = np.dtype([(\"qint16\", np.int16, 1)])\n",
      "C:\\Users\\Admin\\Anaconda3\\lib\\site-packages\\tensorflow\\python\\framework\\dtypes.py:529: FutureWarning: Passing (type, 1) or '1type' as a synonym of type is deprecated; in a future version of numpy, it will be understood as (type, (1,)) / '(1,)type'.\n",
      "  _np_quint16 = np.dtype([(\"quint16\", np.uint16, 1)])\n",
      "C:\\Users\\Admin\\Anaconda3\\lib\\site-packages\\tensorflow\\python\\framework\\dtypes.py:530: FutureWarning: Passing (type, 1) or '1type' as a synonym of type is deprecated; in a future version of numpy, it will be understood as (type, (1,)) / '(1,)type'.\n",
      "  _np_qint32 = np.dtype([(\"qint32\", np.int32, 1)])\n",
      "C:\\Users\\Admin\\Anaconda3\\lib\\site-packages\\tensorflow\\python\\framework\\dtypes.py:535: FutureWarning: Passing (type, 1) or '1type' as a synonym of type is deprecated; in a future version of numpy, it will be understood as (type, (1,)) / '(1,)type'.\n",
      "  np_resource = np.dtype([(\"resource\", np.ubyte, 1)])\n"
     ]
    }
   ],
   "source": [
    "from sklearn import metrics\n",
    "from sklearn.metrics import classification_report\n",
    "from sklearn import preprocessing\n",
    "\n",
    "import keras\n",
    "from keras.models import Sequential\n",
    "from keras.layers import Dense, Dropout, Flatten, Reshape, GlobalAveragePooling1D\n",
    "from keras.layers import Conv2D, MaxPooling2D, Conv1D, MaxPooling1D\n",
    "from keras.utils import np_utils"
   ]
  },
  {
   "cell_type": "code",
   "execution_count": 3,
   "metadata": {},
   "outputs": [],
   "source": [
    "def feature_normalize(dataset):\n",
    "    mu = np.mean(dataset, axis=0)\n",
    "    sigma = np.std(dataset, axis=0)\n",
    "    return (dataset - mu)/sigma"
   ]
  },
  {
   "cell_type": "code",
   "execution_count": 4,
   "metadata": {},
   "outputs": [],
   "source": [
    "def show_basic_dataframe_info(dataframe,\n",
    "                              preview_rows=20):\n",
    "\n",
    "    \"\"\"\n",
    "    This function shows basic information for the given dataframe\n",
    "    Args:\n",
    "        dataframe: A Pandas DataFrame expected to contain data\n",
    "        preview_rows: An integer value of how many rows to preview\n",
    "    Returns:\n",
    "        Nothing\n",
    "    \"\"\"\n",
    "\n",
    "    # Shape and how many rows and columns\n",
    "    print(\"Number of columns in the dataframe: %i\" % (dataframe.shape[1]))\n",
    "    print(\"Number of rows in the dataframe: %i\\n\" % (dataframe.shape[0]))\n",
    "    print(\"First 20 rows of the dataframe:\\n\")\n",
    "    # Show first 20 rows\n",
    "    print(dataframe.head(preview_rows))\n",
    "    print(\"\\nDescription of dataframe:\\n\")\n",
    "    # Describe dataset like mean, min, max, etc.\n",
    "    # print(dataframe.describe())"
   ]
  },
  {
   "cell_type": "code",
   "execution_count": 5,
   "metadata": {},
   "outputs": [],
   "source": [
    "def read_data(file_path):\n",
    "\n",
    "    \"\"\"\n",
    "    This function reads the accelerometer data from a file\n",
    "    Args:\n",
    "        file_path: URL pointing to the CSV file\n",
    "    Returns:\n",
    "        A pandas dataframe\n",
    "    \"\"\"\n",
    "    data = np.load(file_path)\n",
    "    column_names = ['x-axis',\n",
    "                    'y-axis',\n",
    "                    'labels']\n",
    "    df = pd.DataFrame(data, columns=column_names)\n",
    "\n",
    "    return df"
   ]
  },
  {
   "cell_type": "code",
   "execution_count": 6,
   "metadata": {},
   "outputs": [],
   "source": [
    "def plot_axis(ax, x, y, title):\n",
    "\n",
    "    ax.plot(x, y)\n",
    "    ax.set_title(title)\n",
    "    ax.xaxis.set_visible(False)\n",
    "    ax.set_ylim([min(y) - np.std(y), max(y) + np.std(y)])\n",
    "    ax.set_xlim([min(x), max(x)])\n",
    "    ax.grid(True)"
   ]
  },
  {
   "cell_type": "code",
   "execution_count": 8,
   "metadata": {},
   "outputs": [],
   "source": [
    "def create_segments_and_labels(df, time_steps, step, label_name):\n",
    "\n",
    "    \"\"\"\n",
    "    This function receives a dataframe and returns the reshaped segments\n",
    "    of x,y acceleration as well as the corresponding labels\n",
    "    Args:\n",
    "        df: Dataframe in the expected format\n",
    "        time_steps: Integer value of the length of a segment that is created\n",
    "    Returns:\n",
    "        reshaped_segments\n",
    "        labels:\n",
    "    \"\"\"\n",
    "\n",
    "    # x, y acceleration as features\n",
    "    N_FEATURES = 2\n",
    "    # Number of steps to advance in each iteration (for me, it should always\n",
    "    # be equal to the time_steps in order to have no overlap between segments)\n",
    "    # step = time_steps\n",
    "    segments = []\n",
    "    l = []\n",
    "    labels = []\n",
    "    for i in range(0, len(df) - time_steps, step):\n",
    "        xs = df['x-axis'].values[i: i + time_steps]\n",
    "        ys = df['y-axis'].values[i: i + time_steps]\n",
    "        # Retrieve the most often used label in this segment\n",
    "        label = stats.mode(df[label_name][i: i + time_steps])[0][0]\n",
    "        segments = np.dstack((xs, ys))\n",
    "        l.append(segments)\n",
    "        #print(segments.shape)\n",
    "        labels.append(label)\n",
    "        #break\n",
    "    \n",
    "\n",
    "    # Bring the segments into a better shape\n",
    "    reshaped_segments = np.asarray(l, dtype= np.float32).reshape(-1, time_steps, N_FEATURES)\n",
    "    #print(reshaped_segments.shape)\n",
    "    labels = np.asarray(labels)\n",
    "\n",
    "    return reshaped_segments, labels"
   ]
  },
  {
   "cell_type": "code",
   "execution_count": 9,
   "metadata": {},
   "outputs": [],
   "source": [
    "LABELS = [\"bhujangasan\",\n",
    "          \"padamasan\",\n",
    "          \"shavasan\",\n",
    "          \"tadasan\",\n",
    "          \"trikonasan\",\n",
    "          \"vrikshasan\"]"
   ]
  },
  {
   "cell_type": "code",
   "execution_count": 10,
   "metadata": {},
   "outputs": [],
   "source": [
    "TIME_PERIODS = 25"
   ]
  },
  {
   "cell_type": "code",
   "execution_count": 11,
   "metadata": {},
   "outputs": [],
   "source": [
    "STEP_DISTANCE = 25"
   ]
  },
  {
   "cell_type": "code",
   "execution_count": 12,
   "metadata": {},
   "outputs": [],
   "source": [
    "df_train = read_data('data_files/combined_xylabel/data_train_xylabel.npy')"
   ]
  },
  {
   "cell_type": "code",
   "execution_count": 13,
   "metadata": {},
   "outputs": [
    {
     "data": {
      "text/html": [
       "<div>\n",
       "<style scoped>\n",
       "    .dataframe tbody tr th:only-of-type {\n",
       "        vertical-align: middle;\n",
       "    }\n",
       "\n",
       "    .dataframe tbody tr th {\n",
       "        vertical-align: top;\n",
       "    }\n",
       "\n",
       "    .dataframe thead th {\n",
       "        text-align: right;\n",
       "    }\n",
       "</style>\n",
       "<table border=\"1\" class=\"dataframe\">\n",
       "  <thead>\n",
       "    <tr style=\"text-align: right;\">\n",
       "      <th></th>\n",
       "      <th>x-axis</th>\n",
       "      <th>y-axis</th>\n",
       "      <th>labels</th>\n",
       "    </tr>\n",
       "  </thead>\n",
       "  <tbody>\n",
       "    <tr>\n",
       "      <th>0</th>\n",
       "      <td>872.200</td>\n",
       "      <td>606.643</td>\n",
       "      <td>0.0</td>\n",
       "    </tr>\n",
       "    <tr>\n",
       "      <th>1</th>\n",
       "      <td>826.190</td>\n",
       "      <td>585.765</td>\n",
       "      <td>0.0</td>\n",
       "    </tr>\n",
       "    <tr>\n",
       "      <th>2</th>\n",
       "      <td>828.213</td>\n",
       "      <td>600.433</td>\n",
       "      <td>0.0</td>\n",
       "    </tr>\n",
       "    <tr>\n",
       "      <th>3</th>\n",
       "      <td>759.296</td>\n",
       "      <td>619.278</td>\n",
       "      <td>0.0</td>\n",
       "    </tr>\n",
       "    <tr>\n",
       "      <th>4</th>\n",
       "      <td>694.428</td>\n",
       "      <td>625.447</td>\n",
       "      <td>0.0</td>\n",
       "    </tr>\n",
       "  </tbody>\n",
       "</table>\n",
       "</div>"
      ],
      "text/plain": [
       "    x-axis   y-axis  labels\n",
       "0  872.200  606.643     0.0\n",
       "1  826.190  585.765     0.0\n",
       "2  828.213  600.433     0.0\n",
       "3  759.296  619.278     0.0\n",
       "4  694.428  625.447     0.0"
      ]
     },
     "execution_count": 13,
     "metadata": {},
     "output_type": "execute_result"
    }
   ],
   "source": [
    "df_train.head()"
   ]
  },
  {
   "cell_type": "code",
   "execution_count": 14,
   "metadata": {},
   "outputs": [],
   "source": [
    "df_test = read_data('data_files/combined_xylabel/data_test_xylabel.npy')"
   ]
  },
  {
   "cell_type": "code",
   "execution_count": 15,
   "metadata": {},
   "outputs": [],
   "source": [
    "df_val = read_data('data_files/combined_xylabel/data_val_xylabel.npy')"
   ]
  },
  {
   "cell_type": "code",
   "execution_count": 16,
   "metadata": {},
   "outputs": [],
   "source": [
    "LABEL = 'labels'"
   ]
  },
  {
   "cell_type": "code",
   "execution_count": 17,
   "metadata": {},
   "outputs": [],
   "source": [
    "df_train['x-axis'] = feature_normalize(df_train['x-axis'])\n",
    "df_test['x-axis'] = feature_normalize(df_test['x-axis'])\n",
    "df_val['x-axis'] = feature_normalize(df_val['x-axis'])\n",
    "\n",
    "df_train['y-axis'] = feature_normalize(df_train['y-axis'])\n",
    "df_test['y-axis'] = feature_normalize(df_test['y-axis'])\n",
    "df_val['y-axis'] = feature_normalize(df_val['y-axis'])"
   ]
  },
  {
   "cell_type": "code",
   "execution_count": 18,
   "metadata": {},
   "outputs": [],
   "source": [
    "X_train, y_train = create_segments_and_labels(df_train,\n",
    "                                              TIME_PERIODS,\n",
    "                                              STEP_DISTANCE,\n",
    "                                              LABEL)"
   ]
  },
  {
   "cell_type": "code",
   "execution_count": 19,
   "metadata": {},
   "outputs": [
    {
     "data": {
      "text/plain": [
       "(69919, 25, 2)"
      ]
     },
     "execution_count": 19,
     "metadata": {},
     "output_type": "execute_result"
    }
   ],
   "source": [
    "X_train.shape"
   ]
  },
  {
   "cell_type": "code",
   "execution_count": 25,
   "metadata": {},
   "outputs": [],
   "source": [
    "X_test, y_test = create_segments_and_labels(df_test,\n",
    "                                              TIME_PERIODS,\n",
    "                                              STEP_DISTANCE,\n",
    "                                              LABEL)"
   ]
  },
  {
   "cell_type": "code",
   "execution_count": 26,
   "metadata": {},
   "outputs": [
    {
     "data": {
      "text/plain": [
       "(23313, 25, 2)"
      ]
     },
     "execution_count": 26,
     "metadata": {},
     "output_type": "execute_result"
    }
   ],
   "source": [
    "X_test.shape"
   ]
  },
  {
   "cell_type": "code",
   "execution_count": 27,
   "metadata": {},
   "outputs": [
    {
     "data": {
      "text/plain": [
       "(23313,)"
      ]
     },
     "execution_count": 27,
     "metadata": {},
     "output_type": "execute_result"
    }
   ],
   "source": [
    "y_test.shape"
   ]
  },
  {
   "cell_type": "code",
   "execution_count": 28,
   "metadata": {},
   "outputs": [],
   "source": [
    "X_val, y_val = create_segments_and_labels(df_val,\n",
    "                                              TIME_PERIODS,\n",
    "                                              STEP_DISTANCE,\n",
    "                                              LABEL)"
   ]
  },
  {
   "cell_type": "code",
   "execution_count": 29,
   "metadata": {},
   "outputs": [],
   "source": [
    "num_time_periods, num_sensors = X_train.shape[1], X_train.shape[2]"
   ]
  },
  {
   "cell_type": "code",
   "execution_count": 30,
   "metadata": {},
   "outputs": [],
   "source": [
    "num_classes = 6"
   ]
  },
  {
   "cell_type": "code",
   "execution_count": 31,
   "metadata": {},
   "outputs": [
    {
     "data": {
      "text/plain": [
       "(69919,)"
      ]
     },
     "execution_count": 31,
     "metadata": {},
     "output_type": "execute_result"
    }
   ],
   "source": [
    "y_train.shape"
   ]
  },
  {
   "cell_type": "code",
   "execution_count": 32,
   "metadata": {},
   "outputs": [],
   "source": [
    "input_shape = (num_time_periods*num_sensors)\n",
    "X_train = X_train.reshape(X_train.shape[0], input_shape)"
   ]
  },
  {
   "cell_type": "code",
   "execution_count": 33,
   "metadata": {},
   "outputs": [],
   "source": [
    "X_train = X_train.reshape(X_train.shape[0], input_shape)"
   ]
  },
  {
   "cell_type": "code",
   "execution_count": 34,
   "metadata": {},
   "outputs": [
    {
     "name": "stdout",
     "output_type": "stream",
     "text": [
      "X_train shape: (69919, 50)\n"
     ]
    }
   ],
   "source": [
    "print('X_train shape:', X_train.shape)"
   ]
  },
  {
   "cell_type": "code",
   "execution_count": 35,
   "metadata": {},
   "outputs": [],
   "source": [
    "X_train = X_train.astype(\"float32\")\n",
    "y_train = y_train.astype(\"float32\")"
   ]
  },
  {
   "cell_type": "code",
   "execution_count": 36,
   "metadata": {},
   "outputs": [
    {
     "name": "stdout",
     "output_type": "stream",
     "text": [
      "New y_train shape:  (69919, 6)\n"
     ]
    }
   ],
   "source": [
    "y_train = np_utils.to_categorical(y_train, num_classes)\n",
    "print('New y_train shape: ', y_train.shape)"
   ]
  },
  {
   "cell_type": "code",
   "execution_count": 37,
   "metadata": {},
   "outputs": [
    {
     "name": "stdout",
     "output_type": "stream",
     "text": [
      "\n",
      "--- Create neural network model ---\n",
      "\n"
     ]
    }
   ],
   "source": [
    "print(\"\\n--- Create neural network model ---\\n\")"
   ]
  },
  {
   "cell_type": "code",
   "execution_count": 38,
   "metadata": {},
   "outputs": [
    {
     "name": "stdout",
     "output_type": "stream",
     "text": [
      "here1\n",
      "WARNING:tensorflow:From C:\\Users\\Admin\\Anaconda3\\lib\\site-packages\\tensorflow\\python\\framework\\op_def_library.py:263: colocate_with (from tensorflow.python.framework.ops) is deprecated and will be removed in a future version.\n",
      "Instructions for updating:\n",
      "Colocations handled automatically by placer.\n",
      "here2\n",
      "here3\n",
      "here4\n",
      "here5\n",
      "here6\n",
      "WARNING:tensorflow:From C:\\Users\\Admin\\Anaconda3\\lib\\site-packages\\keras\\backend\\tensorflow_backend.py:3013: calling dropout (from tensorflow.python.ops.nn_ops) with keep_prob is deprecated and will be removed in a future version.\n",
      "Instructions for updating:\n",
      "Please use `rate` instead of `keep_prob`. Rate should be set to `rate = 1 - keep_prob`.\n",
      "_________________________________________________________________\n",
      "Layer (type)                 Output Shape              Param #   \n",
      "=================================================================\n",
      "reshape_1 (Reshape)          (None, 25, 2)             0         \n",
      "_________________________________________________________________\n",
      "conv1d_1 (Conv1D)            (None, 16, 100)           2100      \n",
      "_________________________________________________________________\n",
      "conv1d_2 (Conv1D)            (None, 7, 100)            100100    \n",
      "_________________________________________________________________\n",
      "max_pooling1d_1 (MaxPooling1 (None, 2, 100)            0         \n",
      "_________________________________________________________________\n",
      "conv1d_3 (Conv1D)            (None, 2, 160)            160160    \n",
      "_________________________________________________________________\n",
      "conv1d_4 (Conv1D)            (None, 2, 160)            256160    \n",
      "_________________________________________________________________\n",
      "global_average_pooling1d_1 ( (None, 160)               0         \n",
      "_________________________________________________________________\n",
      "dropout_1 (Dropout)          (None, 160)               0         \n",
      "_________________________________________________________________\n",
      "dense_1 (Dense)              (None, 6)                 966       \n",
      "=================================================================\n",
      "Total params: 519,486\n",
      "Trainable params: 519,486\n",
      "Non-trainable params: 0\n",
      "_________________________________________________________________\n",
      "None\n"
     ]
    }
   ],
   "source": [
    "model_m = Sequential()\n",
    "model_m.add(Reshape((TIME_PERIODS, num_sensors), input_shape=(input_shape,)))\n",
    "print('here1')\n",
    "model_m.add(Conv1D(100, 10, activation='relu', input_shape=(TIME_PERIODS, num_sensors)))\n",
    "print('here2')\n",
    "model_m.add(Conv1D(100, 10, activation='relu'))\n",
    "print('here3')\n",
    "model_m.add(MaxPooling1D(3))\n",
    "print('here4')\n",
    "model_m.add(Conv1D(160, 10, activation='relu', padding=\"same\"))\n",
    "print('here5')\n",
    "model_m.add(Conv1D(160, 10, activation='relu', padding=\"same\"))\n",
    "print('here6')\n",
    "model_m.add(GlobalAveragePooling1D())\n",
    "model_m.add(Dropout(0.5))\n",
    "model_m.add(Dense(num_classes, activation='softmax'))\n",
    "print(model_m.summary())\n",
    "\n",
    "\n"
   ]
  },
  {
   "cell_type": "code",
   "execution_count": 39,
   "metadata": {},
   "outputs": [
    {
     "name": "stdout",
     "output_type": "stream",
     "text": [
      "\n",
      "--- Fit the model ---\n",
      "\n"
     ]
    }
   ],
   "source": [
    "print(\"\\n--- Fit the model ---\\n\")"
   ]
  },
  {
   "cell_type": "code",
   "execution_count": 41,
   "metadata": {},
   "outputs": [],
   "source": [
    "callbacks_list = [\n",
    "    keras.callbacks.ModelCheckpoint(\n",
    "        filepath='best_model.{epoch:02d}-{val_acc:.2f}.h5',\n",
    "        monitor='val_loss', save_best_only=True),\n",
    "    #keras.callbacks.EarlyStopping(monitor='acc', patience=1)\n",
    "]"
   ]
  },
  {
   "cell_type": "code",
   "execution_count": 42,
   "metadata": {},
   "outputs": [
    {
     "name": "stdout",
     "output_type": "stream",
     "text": [
      "WARNING:tensorflow:From C:\\Users\\Admin\\Anaconda3\\lib\\site-packages\\keras\\backend\\tensorflow_backend.py:2880: calling reduce_sum_v1 (from tensorflow.python.ops.math_ops) with keep_dims is deprecated and will be removed in a future version.\n",
      "Instructions for updating:\n",
      "keep_dims is deprecated, use keepdims instead\n"
     ]
    }
   ],
   "source": [
    "model_m.compile(loss='categorical_crossentropy',\n",
    "                optimizer='adam', metrics=['accuracy'])"
   ]
  },
  {
   "cell_type": "code",
   "execution_count": 43,
   "metadata": {},
   "outputs": [],
   "source": [
    "BATCH_SIZE = 400\n",
    "EPOCHS = 50"
   ]
  },
  {
   "cell_type": "code",
   "execution_count": 44,
   "metadata": {},
   "outputs": [
    {
     "name": "stdout",
     "output_type": "stream",
     "text": [
      "New y_val shape:  (23304, 6)\n"
     ]
    }
   ],
   "source": [
    "X_val = X_val.reshape(X_val.shape[0], input_shape)\n",
    "\n",
    "X_val = X_val.astype(\"float32\")\n",
    "y_val = y_val.astype(\"float32\")\n",
    "\n",
    "y_val = np_utils.to_categorical(y_val, num_classes)\n",
    "print('New y_val shape: ', y_val.shape)"
   ]
  },
  {
   "cell_type": "code",
   "execution_count": 45,
   "metadata": {},
   "outputs": [
    {
     "name": "stdout",
     "output_type": "stream",
     "text": [
      "WARNING:tensorflow:From C:\\Users\\Admin\\Anaconda3\\lib\\site-packages\\tensorflow\\python\\ops\\math_ops.py:3066: to_int32 (from tensorflow.python.ops.math_ops) is deprecated and will be removed in a future version.\n",
      "Instructions for updating:\n",
      "Use tf.cast instead.\n",
      "Train on 69919 samples, validate on 23304 samples\n",
      "Epoch 1/50\n",
      "69919/69919 [==============================] - 27s 382us/step - loss: 0.1932 - acc: 0.9317 - val_loss: 0.6145 - val_acc: 0.9191\n",
      "Epoch 2/50\n",
      "69919/69919 [==============================] - 27s 379us/step - loss: 0.0211 - acc: 0.9938 - val_loss: 0.6878 - val_acc: 0.9231\n",
      "Epoch 3/50\n",
      "69919/69919 [==============================] - 25s 362us/step - loss: 0.0134 - acc: 0.9955 - val_loss: 0.6033 - val_acc: 0.9252\n",
      "Epoch 4/50\n",
      "69919/69919 [==============================] - 27s 392us/step - loss: 0.0122 - acc: 0.9957 - val_loss: 0.4398 - val_acc: 0.9251\n",
      "Epoch 5/50\n",
      "69919/69919 [==============================] - 27s 386us/step - loss: 0.0082 - acc: 0.9968 - val_loss: 0.8431 - val_acc: 0.9137\n",
      "Epoch 6/50\n",
      "69919/69919 [==============================] - 27s 385us/step - loss: 0.0073 - acc: 0.9973 - val_loss: 0.8530 - val_acc: 0.9262\n",
      "Epoch 7/50\n",
      "69919/69919 [==============================] - 24s 345us/step - loss: 0.0071 - acc: 0.9976 - val_loss: 0.7973 - val_acc: 0.9248\n",
      "Epoch 8/50\n",
      "69919/69919 [==============================] - 25s 361us/step - loss: 0.0048 - acc: 0.9984 - val_loss: 0.9681 - val_acc: 0.9274\n",
      "Epoch 9/50\n",
      "69919/69919 [==============================] - 25s 355us/step - loss: 0.0052 - acc: 0.9982 - val_loss: 0.9334 - val_acc: 0.9252\n",
      "Epoch 10/50\n",
      "69919/69919 [==============================] - 27s 380us/step - loss: 0.0040 - acc: 0.9986 - val_loss: 0.9592 - val_acc: 0.9243\n",
      "Epoch 11/50\n",
      "69919/69919 [==============================] - 27s 382us/step - loss: 0.0043 - acc: 0.9984 - val_loss: 1.0866 - val_acc: 0.9195\n",
      "Epoch 12/50\n",
      "69919/69919 [==============================] - 25s 355us/step - loss: 0.0041 - acc: 0.9986 - val_loss: 1.0569 - val_acc: 0.9260\n",
      "Epoch 13/50\n",
      "69919/69919 [==============================] - 27s 392us/step - loss: 0.0050 - acc: 0.9981 - val_loss: 1.0436 - val_acc: 0.9263\n",
      "Epoch 14/50\n",
      "69919/69919 [==============================] - 26s 377us/step - loss: 0.0041 - acc: 0.9985 - val_loss: 0.8377 - val_acc: 0.9259\n",
      "Epoch 15/50\n",
      "69919/69919 [==============================] - 25s 350us/step - loss: 0.0031 - acc: 0.9988 - val_loss: 1.0679 - val_acc: 0.9271\n",
      "Epoch 16/50\n",
      "69919/69919 [==============================] - 25s 357us/step - loss: 0.0022 - acc: 0.9992 - val_loss: 1.0828 - val_acc: 0.9257\n",
      "Epoch 17/50\n",
      "69919/69919 [==============================] - 25s 351us/step - loss: 0.0036 - acc: 0.9986 - val_loss: 1.0749 - val_acc: 0.9262\n",
      "Epoch 18/50\n",
      "69919/69919 [==============================] - 24s 346us/step - loss: 0.0023 - acc: 0.9992 - val_loss: 1.0893 - val_acc: 0.9244\n",
      "Epoch 19/50\n",
      "69919/69919 [==============================] - 24s 346us/step - loss: 0.0049 - acc: 0.9983 - val_loss: 0.8711 - val_acc: 0.9235\n",
      "Epoch 20/50\n",
      "69919/69919 [==============================] - 24s 346us/step - loss: 0.0032 - acc: 0.9990 - val_loss: 1.0745 - val_acc: 0.9258\n",
      "Epoch 21/50\n",
      "69919/69919 [==============================] - 24s 347us/step - loss: 0.0031 - acc: 0.9989 - val_loss: 1.0764 - val_acc: 0.9270\n",
      "Epoch 22/50\n",
      "69919/69919 [==============================] - 24s 348us/step - loss: 0.0014 - acc: 0.9995 - val_loss: 1.0934 - val_acc: 0.9239\n",
      "Epoch 23/50\n",
      "69919/69919 [==============================] - 25s 351us/step - loss: 0.0034 - acc: 0.9988 - val_loss: 1.0751 - val_acc: 0.9265\n",
      "Epoch 24/50\n",
      "69919/69919 [==============================] - 24s 348us/step - loss: 0.0010 - acc: 0.9996 - val_loss: 1.0790 - val_acc: 0.9282\n",
      "Epoch 25/50\n",
      "69919/69919 [==============================] - 24s 346us/step - loss: 0.0012 - acc: 0.9996 - val_loss: 1.0800 - val_acc: 0.9275\n",
      "Epoch 26/50\n",
      "69919/69919 [==============================] - 25s 360us/step - loss: 0.0011 - acc: 0.9995 - val_loss: 1.0764 - val_acc: 0.9284\n",
      "Epoch 27/50\n",
      "69919/69919 [==============================] - 25s 352us/step - loss: 0.0012 - acc: 0.9997 - val_loss: 1.0759 - val_acc: 0.9256\n",
      "Epoch 28/50\n",
      "69919/69919 [==============================] - 24s 343us/step - loss: 0.0011 - acc: 0.9997 - val_loss: 1.0873 - val_acc: 0.9287\n",
      "Epoch 29/50\n",
      "69919/69919 [==============================] - 24s 346us/step - loss: 0.0044 - acc: 0.9989 - val_loss: 1.0751 - val_acc: 0.9271\n",
      "Epoch 30/50\n",
      "69919/69919 [==============================] - 24s 348us/step - loss: 0.0022 - acc: 0.9993 - val_loss: 1.0875 - val_acc: 0.9264\n",
      "Epoch 31/50\n",
      "69919/69919 [==============================] - 24s 349us/step - loss: 0.0030 - acc: 0.9991 - val_loss: 1.0834 - val_acc: 0.9268\n",
      "Epoch 32/50\n",
      "69919/69919 [==============================] - 24s 346us/step - loss: 0.0018 - acc: 0.9994 - val_loss: 1.0821 - val_acc: 0.9280\n",
      "Epoch 33/50\n",
      "69919/69919 [==============================] - 24s 346us/step - loss: 8.4013e-04 - acc: 0.9996 - val_loss: 1.0823 - val_acc: 0.9280\n",
      "Epoch 34/50\n",
      "69919/69919 [==============================] - 24s 344us/step - loss: 0.0013 - acc: 0.9996 - val_loss: 1.0738 - val_acc: 0.9284\n",
      "Epoch 35/50\n",
      "69919/69919 [==============================] - 24s 346us/step - loss: 0.0023 - acc: 0.9991 - val_loss: 1.0894 - val_acc: 0.9252\n",
      "Epoch 36/50\n",
      "69919/69919 [==============================] - 24s 347us/step - loss: 0.0016 - acc: 0.9994 - val_loss: 1.0948 - val_acc: 0.9260\n",
      "Epoch 37/50\n",
      "69919/69919 [==============================] - 24s 345us/step - loss: 9.3474e-04 - acc: 0.9997 - val_loss: 1.1010 - val_acc: 0.9250\n",
      "Epoch 38/50\n",
      "69919/69919 [==============================] - 25s 353us/step - loss: 0.0016 - acc: 0.9995 - val_loss: 1.0789 - val_acc: 0.9259\n",
      "Epoch 39/50\n",
      "69919/69919 [==============================] - 25s 353us/step - loss: 0.0015 - acc: 0.9997 - val_loss: 1.0972 - val_acc: 0.9255\n",
      "Epoch 40/50\n",
      "69919/69919 [==============================] - 26s 367us/step - loss: 0.0017 - acc: 0.9997 - val_loss: 1.0829 - val_acc: 0.9292\n",
      "Epoch 41/50\n",
      "69919/69919 [==============================] - 26s 378us/step - loss: 0.0018 - acc: 0.9996 - val_loss: 1.0793 - val_acc: 0.9269\n",
      "Epoch 42/50\n",
      "69919/69919 [==============================] - 27s 385us/step - loss: 0.0011 - acc: 0.9995 - val_loss: 1.0876 - val_acc: 0.9275\n",
      "Epoch 43/50\n",
      "69919/69919 [==============================] - 24s 347us/step - loss: 5.5615e-04 - acc: 0.9998 - val_loss: 1.0836 - val_acc: 0.9277\n",
      "Epoch 44/50\n",
      "69919/69919 [==============================] - 24s 350us/step - loss: 7.1839e-05 - acc: 1.0000 - val_loss: 1.0884 - val_acc: 0.9269\n",
      "Epoch 45/50\n",
      "69919/69919 [==============================] - 24s 346us/step - loss: 2.5803e-05 - acc: 1.0000 - val_loss: 1.0899 - val_acc: 0.9277\n",
      "Epoch 46/50\n",
      "69919/69919 [==============================] - 24s 345us/step - loss: 0.0018 - acc: 0.9994 - val_loss: 1.0915 - val_acc: 0.9278\n",
      "Epoch 47/50\n",
      "69919/69919 [==============================] - 25s 360us/step - loss: 2.8392e-04 - acc: 0.9999 - val_loss: 1.0875 - val_acc: 0.9282\n",
      "Epoch 48/50\n",
      "69919/69919 [==============================] - 24s 345us/step - loss: 9.1174e-04 - acc: 0.9997 - val_loss: 1.0918 - val_acc: 0.9258\n",
      "Epoch 49/50\n",
      "69919/69919 [==============================] - 27s 384us/step - loss: 0.0018 - acc: 0.9995 - val_loss: 1.0831 - val_acc: 0.9284\n",
      "Epoch 50/50\n",
      "69919/69919 [==============================] - 27s 379us/step - loss: 0.0013 - acc: 0.9995 - val_loss: 1.0891 - val_acc: 0.9253\n"
     ]
    }
   ],
   "source": [
    "history = model_m.fit(X_train,\n",
    "                      y_train,\n",
    "                      batch_size=BATCH_SIZE,\n",
    "                      epochs=EPOCHS,\n",
    "                      callbacks=callbacks_list,\n",
    "                      validation_data=(X_val, y_val),\n",
    "                      verbose=1)"
   ]
  },
  {
   "cell_type": "code",
   "execution_count": 46,
   "metadata": {},
   "outputs": [
    {
     "name": "stdout",
     "output_type": "stream",
     "text": [
      "\n",
      "--- Learning curve of model training ---\n",
      "\n"
     ]
    }
   ],
   "source": [
    "print(\"\\n--- Learning curve of model training ---\\n\")"
   ]
  },
  {
   "cell_type": "code",
   "execution_count": 47,
   "metadata": {},
   "outputs": [
    {
     "data": {
      "image/png": "[encoded data removed]",
      "text/plain": [
       "<Figure size 432x288 with 1 Axes>"
      ]
     },
     "metadata": {
      "needs_background": "light"
     },
     "output_type": "display_data"
    }
   ],
   "source": [
    "plt.figure(figsize=(6, 4))\n",
    "plt.plot(history.history['acc'], \"g--\", label=\"Accuracy of training data\")\n",
    "plt.plot(history.history['val_acc'], \"g\", label=\"Accuracy of validation data\")\n",
    "#plt.plot(history.history['loss'], \"r--\", label=\"Loss of training data\")\n",
    "#plt.plot(history.history['val_loss'], \"r\", label=\"Loss of validation data\")\n",
    "plt.title('Model Accuracy and Loss')\n",
    "plt.ylabel('Accuracy and Loss')\n",
    "plt.xlabel('Training Epoch')\n",
    "plt.ylim(0)\n",
    "plt.legend()\n",
    "plt.show()"
   ]
  },
  {
   "cell_type": "code",
   "execution_count": 48,
   "metadata": {},
   "outputs": [],
   "source": [
    "model = model_m\n",
    "#load best weights from current training\n",
    "model.load_weights(\"best_model.04-0.93.h5\")"
   ]
  },
  {
   "cell_type": "code",
   "execution_count": 49,
   "metadata": {},
   "outputs": [],
   "source": [
    "X_test = X_test.reshape(X_test.shape[0], input_shape)"
   ]
  },
  {
   "cell_type": "code",
   "execution_count": 50,
   "metadata": {},
   "outputs": [],
   "source": [
    "X_test = X_test.astype(\"float32\")\n",
    "y_test = y_test.astype(\"float32\")"
   ]
  },
  {
   "cell_type": "code",
   "execution_count": 51,
   "metadata": {},
   "outputs": [],
   "source": [
    "y_test = np_utils.to_categorical(y_test, num_classes)"
   ]
  },
  {
   "cell_type": "code",
   "execution_count": 52,
   "metadata": {},
   "outputs": [
    {
     "data": {
      "text/plain": [
       "(23313, 6)"
      ]
     },
     "execution_count": 52,
     "metadata": {},
     "output_type": "execute_result"
    }
   ],
   "source": [
    "y_test.shape"
   ]
  },
  {
   "cell_type": "code",
   "execution_count": 54,
   "metadata": {},
   "outputs": [
    {
     "name": "stdout",
     "output_type": "stream",
     "text": [
      "23313/23313 [==============================] - 3s 143us/step\n"
     ]
    }
   ],
   "source": [
    "score = model.evaluate(X_test, y_test, verbose=1)"
   ]
  },
  {
   "cell_type": "code",
   "execution_count": 55,
   "metadata": {},
   "outputs": [
    {
     "name": "stdout",
     "output_type": "stream",
     "text": [
      "\n",
      "Accuracy on test data: 0.87\n",
      "\n",
      "Loss on test data: 0.63\n"
     ]
    }
   ],
   "source": [
    "print(\"\\nAccuracy on test data: %0.2f\" % score[1])\n",
    "print(\"\\nLoss on test data: %0.2f\" % score[0])"
   ]
  },
  {
   "cell_type": "code",
   "execution_count": null,
   "metadata": {},
   "outputs": [],
   "source": []
  }
 ],
 "metadata": {
  "kernelspec": {
   "display_name": "Python 3",
   "language": "python",
   "name": "python3"
  },
  "language_info": {
   "codemirror_mode": {
    "name": "ipython",
    "version": 3
   },
   "file_extension": ".py",
   "mimetype": "text/x-python",
   "name": "python",
   "nbconvert_exporter": "python",
   "pygments_lexer": "ipython3",
   "version": "3.7.6"
  }
 },
 "nbformat": 4,
 "nbformat_minor": 4
}
