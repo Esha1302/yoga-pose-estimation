{
 "cells": [
  {
   "cell_type": "code",
   "execution_count": null,
   "metadata": {},
   "outputs": [],
   "source": [
    "import os\n",
    "import numpy as np\n",
    "import json\n",
    "import random"
   ]
  },
  {
   "cell_type": "code",
   "execution_count": null,
   "metadata": {},
   "outputs": [],
   "source": [
    "# train_vals = []\n",
    "# test_vals = []\n",
    "# vali_vals = []\n",
    "vals1 = []\n",
    "# labels = []"
   ]
  },
  {
   "cell_type": "code",
   "execution_count": null,
   "metadata": {},
   "outputs": [],
   "source": [
    "overlap_size = 36\n",
    "window_size = 45\n",
    "\n",
    "# overlap_size = 19\n",
    "# window_size = 20\n",
    "\n",
    "# # overlap_size = 21\n",
    "# # window_size = 30"
   ]
  },
  {
   "cell_type": "code",
   "execution_count": null,
   "metadata": {},
   "outputs": [],
   "source": [
    "def frame_preprocess(vid, vid_class):\n",
    "    for start in range(0, len(vid)-window_size, window_size - overlap_size):\n",
    "        currCase = np.empty([window_size,18,2])\n",
    "        for index in range(0,window_size):\n",
    "            currCase[index] = vid[start+index]\n",
    "        vals1.append((currCase, vid_class))\n",
    "        "
   ]
  },
  {
   "cell_type": "code",
   "execution_count": null,
   "metadata": {},
   "outputs": [],
   "source": [
    "vid_class = 0\n",
    "for vid_folder in os.listdir('bhujangasan/bhujangasan'):\n",
    "    folder_name = 'bhujangasan/bhujangasan/' + str(vid_folder) + '/'\n",
    "#     print(folder_name)\n",
    "    l = [] \n",
    "    for frame in os.listdir(folder_name):\n",
    "        with open(folder_name + frame) as json_data:\n",
    "            d = json.load(json_data)\n",
    "            try:\n",
    "                data = d['people'][0]['pose_keypoints_2d']\n",
    "                #remove confidence values\n",
    "                for j in range(2,38,2):\n",
    "                    data.pop(j)\n",
    "            except:\n",
    "                    print (\"Failed at\" + frame)\n",
    "                    continue\n",
    "            json_data.close\n",
    "        npdata = np.asarray(data)\n",
    "\n",
    "        Xdata = data[::2]\n",
    "        #print(len(Xdata))\n",
    "        Ydata = data[1::2]\n",
    "        stk = np.dstack((Xdata, Ydata))\n",
    "        l.append(stk)\n",
    "\n",
    "    frame_preprocess(l, vid_class)\n",
    "     "
   ]
  },
  {
   "cell_type": "code",
   "execution_count": null,
   "metadata": {},
   "outputs": [],
   "source": [
    "vid_class = 1\n",
    "train_list = []\n",
    "val_list = []\n",
    "test_list = []\n",
    "for vid_folder in os.listdir('padamasan/padamasan'):\n",
    "    folder_name = 'padamasan/padamasan/' + str(vid_folder) + '/'\n",
    "    l = [] \n",
    "    for frame in os.listdir(folder_name):\n",
    "        with open(folder_name + frame) as json_data:\n",
    "            d = json.load(json_data)\n",
    "            try:\n",
    "                data = d['people'][0]['pose_keypoints_2d']\n",
    "                #remove confidence values\n",
    "                for j in range(2,38,2):\n",
    "                    data.pop(j)\n",
    "            except:\n",
    "                    print (\"Failed at\" + frame)\n",
    "                    continue\n",
    "            json_data.close\n",
    "        npdata = np.asarray(data)\n",
    "        Xdata = data[::2]\n",
    "        #print(len(Xdata))\n",
    "        Ydata = data[1::2]\n",
    "        stk = np.dstack((Xdata, Ydata))\n",
    "        l.append(stk)\n",
    "\n",
    "    frame_preprocess(l, vid_class)\n"
   ]
  },
  {
   "cell_type": "code",
   "execution_count": null,
   "metadata": {},
   "outputs": [],
   "source": [
    "vid_class = 2\n",
    "train_list = []\n",
    "val_list = []\n",
    "test_list = []\n",
    "for vid_folder in os.listdir('shavasan/shavasan'):\n",
    "    folder_name = 'shavasan/shavasan/' + str(vid_folder) + '/'\n",
    "    l = [] \n",
    "    for frame in os.listdir(folder_name):\n",
    "        with open(folder_name + frame) as json_data:\n",
    "            d = json.load(json_data)\n",
    "            try:\n",
    "                data = d['people'][0]['pose_keypoints_2d']\n",
    "                #remove confidence values\n",
    "                for j in range(2,38,2):\n",
    "                    data.pop(j)\n",
    "            except:\n",
    "                    print (\"Failed at\" + frame)\n",
    "                    continue\n",
    "                    \n",
    "            json_data.close\n",
    "        npdata = np.asarray(data)\n",
    "\n",
    "        Xdata = data[::2]\n",
    "        #print(len(Xdata))\n",
    "        Ydata = data[1::2]\n",
    "        stk = np.dstack((Xdata, Ydata))\n",
    "        l.append(stk)\n",
    "    frame_preprocess(l, vid_class)"
   ]
  },
  {
   "cell_type": "code",
   "execution_count": null,
   "metadata": {},
   "outputs": [],
   "source": [
    "vid_class = 3\n",
    "train_list = []\n",
    "val_list = []\n",
    "test_list = []\n",
    "for vid_folder in os.listdir('tadasan/tadasan'):\n",
    "    folder_name = 'tadasan/tadasan/' + str(vid_folder) + '/'\n",
    "    l = [] \n",
    "    for frame in os.listdir(folder_name):\n",
    "        with open(folder_name + frame) as json_data:\n",
    "            d = json.load(json_data)\n",
    "            try:\n",
    "                data = d['people'][0]['pose_keypoints_2d']\n",
    "                #remove confidence values\n",
    "                for j in range(2,38,2):\n",
    "                    data.pop(j)\n",
    "            except:\n",
    "                    print (\"Failed at\" + frame)\n",
    "                    continue\n",
    "            json_data.close\n",
    "        npdata = np.asarray(data)\n",
    "        Xdata = data[::2]\n",
    "        #print(len(Xdata))\n",
    "        Ydata = data[1::2]\n",
    "        stk = np.dstack((Xdata, Ydata))\n",
    "\n",
    "        l.append(stk)\n",
    "\n",
    "    frame_preprocess(l, vid_class) \n"
   ]
  },
  {
   "cell_type": "code",
   "execution_count": null,
   "metadata": {},
   "outputs": [],
   "source": [
    "vid_class = 4\n",
    "train_list = []\n",
    "val_list = []\n",
    "test_list = []\n",
    "for vid_folder in os.listdir('trikonasan/trikonasan'):\n",
    "    folder_name = 'trikonasan/trikonasan/' + str(vid_folder) + '/'\n",
    "    l = [] \n",
    "    for frame in os.listdir(folder_name):\n",
    "        with open(folder_name + frame) as json_data:\n",
    "            d = json.load(json_data)\n",
    "            try:\n",
    "                data = d['people'][0]['pose_keypoints_2d']\n",
    "                #remove confidence values\n",
    "                for j in range(2,38,2):\n",
    "                    data.pop(j)\n",
    "            except:\n",
    "                    print (\"Failed at\" + frame)\n",
    "                    continue\n",
    "            json_data.close\n",
    "        npdata = np.asarray(data)\n",
    "\n",
    "        Xdata = data[::2]\n",
    "        #print(len(Xdata))\n",
    "        Ydata = data[1::2]\n",
    "        stk = np.dstack((Xdata, Ydata))\n",
    "\n",
    "        l.append(stk)\n",
    "    frame_preprocess(l, vid_class)\n"
   ]
  },
  {
   "cell_type": "code",
   "execution_count": null,
   "metadata": {},
   "outputs": [],
   "source": [
    "vid_class = 5\n",
    "train_list = []\n",
    "val_list = []\n",
    "test_list = []\n",
    "for vid_folder in os.listdir('vrikshasan/vrikshasan'):\n",
    "    folder_name = 'vrikshasan/vrikshasan/' + str(vid_folder) + '/'\n",
    "    l = [] \n",
    "    for frame in os.listdir(folder_name):\n",
    "        with open(folder_name + frame) as json_data:\n",
    "            d = json.load(json_data)\n",
    "            try:\n",
    "                data = d['people'][0]['pose_keypoints_2d']\n",
    "                #remove confidence values\n",
    "                for j in range(2,38,2):\n",
    "                    data.pop(j)\n",
    "            except:\n",
    "                    print (\"Failed at\" + frame)\n",
    "                    continue\n",
    "            json_data.close\n",
    "        npdata = np.asarray(data)\n",
    "\n",
    "        Xdata = data[::2]\n",
    "        Ydata = data[1::2]\n",
    "        stk = np.dstack((Xdata, Ydata))\n",
    "\n",
    "        l.append(stk)\n",
    "    frame_preprocess(l, vid_class)\n"
   ]
  },
  {
   "cell_type": "code",
   "execution_count": null,
   "metadata": {},
   "outputs": [],
   "source": [
    "X1 = []\n",
    "y1 = []"
   ]
  },
  {
   "cell_type": "code",
   "execution_count": null,
   "metadata": {},
   "outputs": [],
   "source": [
    "for i in range(0, len(vals1)):\n",
    "    X1.append(vals1[i][0])\n",
    "for i in range(0, len(vals1)):\n",
    "    y1.append(vals1[i][1])"
   ]
  },
  {
   "cell_type": "code",
   "execution_count": null,
   "metadata": {},
   "outputs": [],
   "source": [
    "X = np.array(X1)\n",
    "y = np.array(y1)"
   ]
  },
  {
   "cell_type": "code",
   "execution_count": null,
   "metadata": {},
   "outputs": [],
   "source": [
    "np.save(\"data_45windowSize/X\", X)\n",
    "np.save(\"data_45windowSize/y\", y)"
   ]
  }
 ],
 "metadata": {
  "kernelspec": {
   "display_name": "Python 3",
   "language": "python",
   "name": "python3"
  },
  "language_info": {
   "codemirror_mode": {
    "name": "ipython",
    "version": 3
   },
   "file_extension": ".py",
   "mimetype": "text/x-python",
   "name": "python",
   "nbconvert_exporter": "python",
   "pygments_lexer": "ipython3",
   "version": "3.7.6"
  }
 },
 "nbformat": 4,
 "nbformat_minor": 4
}
