{
 "cells": [
  {
   "cell_type": "code",
   "execution_count": null,
   "metadata": {},
   "outputs": [],
   "source": [
    "import os\n",
    "import numpy as np\n",
    "import json"
   ]
  },
  {
   "cell_type": "code",
   "execution_count": null,
   "metadata": {},
   "outputs": [],
   "source": [
    "overlap_size = 36\n",
    "window_size = 45\n",
    "vals = []\n",
    "train_list = []\n",
    "val_list = []\n",
    "test_list = []"
   ]
  },
  {
   "cell_type": "code",
   "execution_count": null,
   "metadata": {},
   "outputs": [],
   "source": [
    "def frame_preprocess(vid, vid_class):\n",
    "    for start in range(0, len(vid)-window_size, window_size - overlap_size):\n",
    "        currCase = np.empty([window_size,25,2])\n",
    "        for index in range(0,window_size):\n",
    "            currCase[index] = vid[start+index]\n",
    "        vals.append((currCase, vid_class))"
   ]
  },
  {
   "cell_type": "code",
   "execution_count": null,
   "metadata": {},
   "outputs": [],
   "source": [
    "vid_class = 0\n",
    "for vid_folder in os.listdir('bhujangasan/'):\n",
    "    folder_name = 'bhujangasan/' + str(vid_folder) + '/'\n",
    "    l = [] \n",
    "    for frame in os.listdir(folder_name):\n",
    "        with open(folder_name + frame) as json_data:\n",
    "            d = json.load(json_data)\n",
    "            try:\n",
    "                data = d['people'][0]['pose_keypoints_2d']\n",
    "                #remove confidence values\n",
    "                for j in range(2,52,2):\n",
    "                    data.pop(j)\n",
    "            except:\n",
    "                    print (\"Failed at\" + frame)\n",
    "                    Xdata = Xdata\n",
    "                    Ydata = Ydata\n",
    "                    stk = np.dstack((Xdata, Ydata))\n",
    "                    l.append(stk)\n",
    "                    print (\"Added this to list\" + frame)\n",
    "                    continue\n",
    "            json_data.close\n",
    "        npdata = np.asarray(data)\n",
    "        #print(npdata.shape)\n",
    "        Xdata = data[::2]\n",
    "        #print(len(Xdata))\n",
    "        Ydata = data[1::2]\n",
    "        stk = np.dstack((Xdata, Ydata))\n",
    "        l.append(stk)\n",
    "        #y_vals.append(vid_class)\n",
    "        #print(Xdata, Ydata)\n",
    "    frame_preprocess(l, vid_class)"
   ]
  },
  {
   "cell_type": "code",
   "execution_count": null,
   "metadata": {},
   "outputs": [],
   "source": [
    "for i in range(int(0.60*len(vals))):\n",
    "    train_list.append(vals[i])\n",
    "    \n",
    "for i in range(int(0.60*len(vals)), int(0.60*len(vals))+int(0.20*len(vals))):\n",
    "    val_list.append(vals[i])\n",
    "    \n",
    "for i in range(int(0.60*len(vals))+int(0.20*len(vals)), len(vals)):\n",
    "    test_list.append(vals[i])"
   ]
  },
  {
   "cell_type": "code",
   "execution_count": null,
   "metadata": {},
   "outputs": [],
   "source": [
    "vals = []"
   ]
  },
  {
   "cell_type": "code",
   "execution_count": null,
   "metadata": {},
   "outputs": [],
   "source": [
    "vid_class = 1\n",
    "for vid_folder in os.listdir('padamasan/'):\n",
    "    folder_name = 'padamasan/' + str(vid_folder) + '/'\n",
    "    l = [] \n",
    "    for frame in os.listdir(folder_name):\n",
    "        with open(folder_name + frame) as json_data:\n",
    "            d = json.load(json_data)\n",
    "            try:\n",
    "                data = d['people'][0]['pose_keypoints_2d']\n",
    "                #remove confidence values\n",
    "                for j in range(2,52,2):\n",
    "                    data.pop(j)\n",
    "            except:\n",
    "                    print (\"Failed at\" + frame)\n",
    "                    Xdata = Xdata\n",
    "                    Ydata = Ydata\n",
    "                    stk = np.dstack((Xdata, Ydata))\n",
    "                    l.append(stk)\n",
    "                    print (\"Added this to list\" + frame)\n",
    "                    continue\n",
    "            json_data.close\n",
    "        npdata = np.asarray(data)\n",
    "        #print(npdata.shape)\n",
    "        Xdata = data[::2]\n",
    "        #print(len(Xdata))\n",
    "        Ydata = data[1::2]\n",
    "        stk = np.dstack((Xdata, Ydata))\n",
    "        l.append(stk)\n",
    "    frame_preprocess(l, vid_class)"
   ]
  },
  {
   "cell_type": "code",
   "execution_count": null,
   "metadata": {},
   "outputs": [],
   "source": [
    "for i in range(int(0.60*len(vals))):\n",
    "    train_list.append(vals[i])\n",
    "    \n",
    "for i in range(int(0.60*len(vals)), int(0.60*len(vals))+int(0.20*len(vals))):\n",
    "    val_list.append(vals[i])\n",
    "    \n",
    "for i in range(int(0.60*len(vals))+int(0.20*len(vals)), len(vals)):\n",
    "    test_list.append(vals[i])"
   ]
  },
  {
   "cell_type": "code",
   "execution_count": null,
   "metadata": {},
   "outputs": [],
   "source": [
    "vals = []"
   ]
  },
  {
   "cell_type": "code",
   "execution_count": null,
   "metadata": {},
   "outputs": [],
   "source": [
    "vid_class = 2\n",
    "for vid_folder in os.listdir('shavasan/'):\n",
    "    folder_name = 'shavasan/' + str(vid_folder) + '/'\n",
    "    l = [] \n",
    "    for frame in os.listdir(folder_name):\n",
    "        with open(folder_name + frame) as json_data:\n",
    "            d = json.load(json_data)\n",
    "            try:\n",
    "                data = d['people'][0]['pose_keypoints_2d']\n",
    "                #remove confidence values\n",
    "                for j in range(2,52,2):\n",
    "                    data.pop(j)\n",
    "            except:\n",
    "                    print (\"Failed at\" + frame)\n",
    "                    Xdata = Xdata\n",
    "                    Ydata = Ydata\n",
    "                    stk = np.dstack((Xdata, Ydata))\n",
    "                    l.append(stk)\n",
    "                    print (\"Added this to list\" + frame)\n",
    "                    continue\n",
    "                    \n",
    "            json_data.close\n",
    "        npdata = np.asarray(data)\n",
    "        #print(npdata.shape)\n",
    "        Xdata = data[::2]\n",
    "        #print(len(Xdata))\n",
    "        Ydata = data[1::2]\n",
    "        stk = np.dstack((Xdata, Ydata))\n",
    "        l.append(stk)\n",
    "    frame_preprocess(l, vid_class)"
   ]
  },
  {
   "cell_type": "code",
   "execution_count": null,
   "metadata": {},
   "outputs": [],
   "source": [
    "for i in range(int(0.60*len(vals))):\n",
    "    train_list.append(vals[i])\n",
    "    \n",
    "for i in range(int(0.60*len(vals)), int(0.60*len(vals))+int(0.20*len(vals))):\n",
    "    val_list.append(vals[i])\n",
    "    \n",
    "for i in range(int(0.60*len(vals))+int(0.20*len(vals)), len(vals)):\n",
    "    test_list.append(vals[i])"
   ]
  },
  {
   "cell_type": "code",
   "execution_count": null,
   "metadata": {},
   "outputs": [],
   "source": [
    "vals = []"
   ]
  },
  {
   "cell_type": "code",
   "execution_count": null,
   "metadata": {},
   "outputs": [],
   "source": [
    "vid_class = 3\n",
    "for vid_folder in os.listdir('tadasan/'):\n",
    "    folder_name = 'tadasan/' + str(vid_folder) + '/'\n",
    "    l = [] \n",
    "    for frame in os.listdir(folder_name):\n",
    "        with open(folder_name + frame) as json_data:\n",
    "            d = json.load(json_data)\n",
    "            try:\n",
    "                data = d['people'][0]['pose_keypoints_2d']\n",
    "                #remove confidence values\n",
    "                for j in range(2,52,2):\n",
    "                    data.pop(j)\n",
    "            except:\n",
    "                    print (\"Failed at\" + frame)\n",
    "                    Xdata = Xdata\n",
    "                    Ydata = Ydata\n",
    "                    stk = np.dstack((Xdata, Ydata))\n",
    "                    l.append(stk)\n",
    "                    print (\"Added this to list\" + frame)\n",
    "                    continue\n",
    "            json_data.close\n",
    "        npdata = np.asarray(data)\n",
    "        #print(npdata.shape)\n",
    "        Xdata = data[::2]\n",
    "        #print(len(Xdata))\n",
    "        Ydata = data[1::2]\n",
    "        stk = np.dstack((Xdata, Ydata))\n",
    "        l.append(stk)\n",
    "        \n",
    "        \n",
    "    frame_preprocess(l, vid_class)"
   ]
  },
  {
   "cell_type": "code",
   "execution_count": null,
   "metadata": {},
   "outputs": [],
   "source": [
    "for i in range(int(0.60*len(vals))):\n",
    "    train_list.append(vals[i])\n",
    "    \n",
    "for i in range(int(0.60*len(vals)), int(0.60*len(vals))+int(0.20*len(vals))):\n",
    "    val_list.append(vals[i])\n",
    "    \n",
    "for i in range(int(0.60*len(vals))+int(0.20*len(vals)), len(vals)):\n",
    "    test_list.append(vals[i])"
   ]
  },
  {
   "cell_type": "code",
   "execution_count": null,
   "metadata": {},
   "outputs": [],
   "source": [
    "val = []"
   ]
  },
  {
   "cell_type": "code",
   "execution_count": null,
   "metadata": {},
   "outputs": [],
   "source": [
    "vid_class = 4\n",
    "for vid_folder in os.listdir('trikonasan/'):\n",
    "    folder_name = 'trikonasan/' + str(vid_folder) + '/'\n",
    "    l = [] \n",
    "    for frame in os.listdir(folder_name):\n",
    "        with open(folder_name + frame) as json_data:\n",
    "            d = json.load(json_data)\n",
    "            try:\n",
    "                data = d['people'][0]['pose_keypoints_2d']\n",
    "                #remove confidence values\n",
    "                for j in range(2,52,2):\n",
    "                    data.pop(j)\n",
    "            except:\n",
    "                    print (\"Failed at\" + frame)\n",
    "                    Xdata = Xdata\n",
    "                    Ydata = Ydata\n",
    "                    stk = np.dstack((Xdata, Ydata))\n",
    "                    l.append(stk)\n",
    "                    print (\"Added this to list\" + frame)\n",
    "                    continue\n",
    "            json_data.close\n",
    "        npdata = np.asarray(data)\n",
    "        #print(npdata.shape)\n",
    "        Xdata = data[::2]\n",
    "        #print(len(Xdata))\n",
    "        Ydata = data[1::2]\n",
    "        stk = np.dstack((Xdata, Ydata))\n",
    "        l.append(stk)\n",
    "        \n",
    "        \n",
    "    frame_preprocess(l, vid_class)"
   ]
  },
  {
   "cell_type": "code",
   "execution_count": null,
   "metadata": {},
   "outputs": [],
   "source": [
    "for i in range(int(0.60*len(vals))):\n",
    "    train_list.append(vals[i])\n",
    "    \n",
    "for i in range(int(0.60*len(vals)), int(0.60*len(vals))+int(0.20*len(vals))):\n",
    "    val_list.append(vals[i])\n",
    "    \n",
    "for i in range(int(0.60*len(vals))+int(0.20*len(vals)), len(vals)):\n",
    "    test_list.append(vals[i])"
   ]
  },
  {
   "cell_type": "code",
   "execution_count": null,
   "metadata": {},
   "outputs": [],
   "source": [
    "vals = []"
   ]
  },
  {
   "cell_type": "code",
   "execution_count": null,
   "metadata": {},
   "outputs": [],
   "source": [
    "vid_class = 5\n",
    "for vid_folder in os.listdir('vrikshasan/'):\n",
    "    folder_name = 'vrikshasan/' + str(vid_folder) + '/'\n",
    "    l = [] \n",
    "    for frame in os.listdir(folder_name):\n",
    "        with open(folder_name + frame) as json_data:\n",
    "            d = json.load(json_data)\n",
    "            try:\n",
    "                data = d['people'][0]['pose_keypoints_2d']\n",
    "                #remove confidence values\n",
    "                for j in range(2,52,2):\n",
    "                    data.pop(j)\n",
    "            except:\n",
    "                    print (\"Failed at\" + frame)\n",
    "                    Xdata = Xdata\n",
    "                    Ydata = Ydata\n",
    "                    stk = np.dstack((Xdata, Ydata))\n",
    "                    l.append(stk)\n",
    "                    print (\"Added this to list\" + frame)\n",
    "                    continue\n",
    "            json_data.close\n",
    "        npdata = np.asarray(data)\n",
    "        Xdata = data[::2]\n",
    "        Ydata = data[1::2]\n",
    "        stk = np.dstack((Xdata, Ydata))\n",
    "        l.append(stk)\n",
    "        \n",
    "        \n",
    "    frame_preprocess(l, vid_class)"
   ]
  },
  {
   "cell_type": "code",
   "execution_count": null,
   "metadata": {},
   "outputs": [],
   "source": [
    "for i in range(int(0.60*len(vals))):\n",
    "    train_list.append(vals[i])\n",
    "    \n",
    "for i in range(int(0.60*len(vals)), int(0.60*len(vals))+int(0.20*len(vals))):\n",
    "    val_list.append(vals[i])\n",
    "    \n",
    "for i in range(int(0.60*len(vals))+int(0.20*len(vals)), len(vals)):\n",
    "    test_list.append(vals[i])"
   ]
  },
  {
   "cell_type": "code",
   "execution_count": null,
   "metadata": {},
   "outputs": [],
   "source": [
    "X_train = []\n",
    "y_train = []\n",
    "X_test = []\n",
    "y_test = []\n",
    "X_val = []\n",
    "y_val = []"
   ]
  },
  {
   "cell_type": "code",
   "execution_count": null,
   "metadata": {},
   "outputs": [],
   "source": [
    "for i in range(0, len(train_list)):\n",
    "    X_train.append(train_list[i][0])\n",
    "for i in range(0, len(train_list)):\n",
    "    y_train.append(train_list[i][1])"
   ]
  },
  {
   "cell_type": "code",
   "execution_count": null,
   "metadata": {},
   "outputs": [],
   "source": [
    "for i in range(0, len(val_list)):\n",
    "    X_val.append(val_list[i][0])\n",
    "for i in range(0, len(val_list)):\n",
    "    y_val.append(val_list[i][1])"
   ]
  },
  {
   "cell_type": "code",
   "execution_count": null,
   "metadata": {},
   "outputs": [],
   "source": [
    "for i in range(0, len(test_list)):\n",
    "    X_test.append(test_list[i][0])\n",
    "for i in range(0, len(test_list)):\n",
    "    y_test.append(test_list[i][1])"
   ]
  },
  {
   "cell_type": "code",
   "execution_count": null,
   "metadata": {},
   "outputs": [],
   "source": [
    "X_train = np.array(X_train)\n",
    "y_train = np.array(y_train)"
   ]
  },
  {
   "cell_type": "code",
   "execution_count": null,
   "metadata": {},
   "outputs": [],
   "source": [
    "X_val = np.array(X_val)\n",
    "y_val = np.array(y_val)"
   ]
  },
  {
   "cell_type": "code",
   "execution_count": null,
   "metadata": {},
   "outputs": [],
   "source": [
    "X_test = np.array(X_test)\n",
    "y_test = np.array(y_test)"
   ]
  },
  {
   "cell_type": "code",
   "execution_count": null,
   "metadata": {},
   "outputs": [],
   "source": [
    "np.save(\"data_files/X_train_eachCateg\", X_train)\n",
    "np.save(\"data_files/X_test_eachCateg\", X_test)\n",
    "np.save(\"data_files/X_val_eachCateg\", X_val)\n",
    "np.save(\"data_files/y_train_eachCateg\", y_train)\n",
    "np.save(\"data_files/y_test_eachCateg\", y_test)\n",
    "np.save(\"data_files/y_val_eachCateg\", y_val)"
   ]
  },
  {
   "cell_type": "code",
   "execution_count": null,
   "metadata": {},
   "outputs": [],
   "source": []
  }
 ],
 "metadata": {
  "kernelspec": {
   "display_name": "Python 3",
   "language": "python",
   "name": "python3"
  },
  "language_info": {
   "codemirror_mode": {
    "name": "ipython",
    "version": 3
   },
   "file_extension": ".py",
   "mimetype": "text/x-python",
   "name": "python",
   "nbconvert_exporter": "python",
   "pygments_lexer": "ipython3",
   "version": "3.7.6"
  }
 },
 "nbformat": 4,
 "nbformat_minor": 4
}
